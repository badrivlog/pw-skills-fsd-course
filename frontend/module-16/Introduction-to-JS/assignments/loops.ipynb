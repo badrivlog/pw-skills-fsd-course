{
  "nbformat": 4,
  "nbformat_minor": 0,
  "metadata": {
    "colab": {
      "provenance": [],
      "collapsed_sections": [
        "kKMWbXC4GKOR",
        "47bJvvVZ9sI_"
      ]
    },
    "kernelspec": {
      "name": "python3",
      "display_name": "Python 3"
    },
    "language_info": {
      "name": "python"
    }
  },
  "cells": [
    {
      "cell_type": "markdown",
      "source": [
        "# Conditions and Loops (module-16)"
      ],
      "metadata": {
        "id": "M7BUR2gw-j26"
      }
    },
    {
      "cell_type": "markdown",
      "source": [
        "\n",
        "## Q1. What are conditional statements? Explain conditional statements with syntax and examples.\n",
        "\n",
        "=>  \n",
        "\n",
        "In any programing language, code needs make decision based on different situation. For example, if a person age is lower than 18 then person is not eligible for vote, or if person age is greater than 18 then person is an adult and eligible for vote. In the same way programing languages are also capable to make decision and that is called `conditional statement`. Conditional statements are programing concept that allow us to make decision based on whether a specified condition is true or false. If the condition is true or false then execute certain pieces of code.\n",
        "\n",
        "### If Else statement\n",
        "**Syntax**\n",
        "```javascript\n",
        "\n",
        "if(condition) {\n",
        "  // code run if condition is true\n",
        "}else {\n",
        "  // code will run if condition is false\n",
        "}\n",
        "```"
      ],
      "metadata": {
        "id": "ITg_ger7E_bg"
      }
    },
    {
      "cell_type": "code",
      "execution_count": null,
      "metadata": {
        "colab": {
          "base_uri": "https://localhost:8080/",
          "height": 17
        },
        "id": "Z3YFejDPE7_F",
        "outputId": "5455c150-11b4-43f8-d693-18f546f3480c"
      },
      "outputs": [
        {
          "output_type": "display_data",
          "data": {
            "text/plain": [
              "<IPython.core.display.Javascript object>"
            ],
            "application/javascript": [
              "let personAge = 20;\n",
              "if(personAge < 18) {\n",
              "  console.log(\"You are not eligible for vote\");\n",
              "}else {\n",
              "  console.log(\"You are eligible for vote\");\n",
              "}\n"
            ]
          },
          "metadata": {}
        }
      ],
      "source": [
        "# if else statement code example\n",
        "%%javascript\n",
        "let personAge = 20;\n",
        "if(personAge < 18) {\n",
        "  console.log(\"You are not eligible for vote\");\n",
        "}else {\n",
        "  console.log(\"You are eligible for vote\");\n",
        "}\n"
      ]
    },
    {
      "cell_type": "markdown",
      "source": [
        "### else if statement\n",
        "**Syntax**\n",
        "```javascript\n",
        "if (condition1) {\n",
        "    // Code run if condition1 is true\n",
        "} else if (condition2) {\n",
        "    // Code run if condition1 is false and condition2 is true\n",
        "} else {\n",
        "    // Code run if both condition1 and condition2 are false\n",
        "}\n",
        "```"
      ],
      "metadata": {
        "id": "Y1BPZtuM-o2Q"
      }
    },
    {
      "cell_type": "code",
      "source": [
        "# else if conditional statement code example\n",
        "%%javascript\n",
        "\n",
        "let temperature = 25;\n",
        "\n",
        "if (temperature > 30) {\n",
        "    console.log(\"It's a hot day.\");\n",
        "} else if (temperature >= 20 && temperature <= 30) {\n",
        "    console.log(\"It's a pleasant day.\");\n",
        "} else if (temperature < 20) {\n",
        "    console.log(\"It's a cold day.\");\n",
        "} else {\n",
        "    console.log(\"Temperature is outside the expected range.\");\n",
        "}\n"
      ],
      "metadata": {
        "colab": {
          "base_uri": "https://localhost:8080/",
          "height": 17
        },
        "id": "prgDMQ3gCGDi",
        "outputId": "c8f2119c-57f5-43ae-d75c-18898f28eeac"
      },
      "execution_count": null,
      "outputs": [
        {
          "output_type": "display_data",
          "data": {
            "text/plain": [
              "<IPython.core.display.Javascript object>"
            ],
            "application/javascript": [
              "\n",
              "let temperature = 25;\n",
              "\n",
              "if (temperature > 30) {\n",
              "    console.log(\"It's a hot day.\");\n",
              "} else if (temperature >= 20 && temperature <= 30) {\n",
              "    console.log(\"It's a pleasant day.\");\n",
              "} else if (temperature < 20) {\n",
              "    console.log(\"It's a cold day.\");\n",
              "} else {\n",
              "    console.log(\"Temperature is outside the expected range.\");\n",
              "}\n"
            ]
          },
          "metadata": {}
        }
      ]
    },
    {
      "cell_type": "markdown",
      "source": [
        "### Switch statement\n",
        "**Syntax**\n",
        "```javascript\n",
        "switch (expression) {\n",
        "    case value1:\n",
        "        // code to execute if expression equals value1\n",
        "        break;\n",
        "    case value2:\n",
        "        // code to execute if expression equals value2\n",
        "        break;\n",
        "    default:\n",
        "        // code to execute if none of the cases match\n",
        "}\n",
        "```"
      ],
      "metadata": {
        "id": "41q2ivU7DxCs"
      }
    },
    {
      "cell_type": "code",
      "source": [
        "# Switch statement code example\n",
        "%%javascript\n",
        "let day = \"Wednesday\";\n",
        "\n",
        "switch (day) {\n",
        "    case \"Monday\":\n",
        "        console.log(\"Go to the gym.\");\n",
        "        break;\n",
        "    case \"Tuesday\":\n",
        "        console.log(\"Attend a meeting.\");\n",
        "        break;\n",
        "    case \"Wednesday\":\n",
        "        console.log(\"Work from home.\");\n",
        "        break;\n",
        "    case \"Thursday\":\n",
        "        console.log(\"Have a project deadline.\");\n",
        "        break;\n",
        "    case \"Friday\":\n",
        "        console.log(\"Go out for dinner.\");\n",
        "        break;\n",
        "    case \"Saturday\":\n",
        "        console.log(\"Relax and enjoy time.\");\n",
        "        break;\n",
        "    case \"Sunday\":\n",
        "        console.log(\"Prepare for the week ahead.\");\n",
        "        break;\n",
        "    default:\n",
        "        console.log(\"Not a valid day.\");\n",
        "}\n"
      ],
      "metadata": {
        "colab": {
          "base_uri": "https://localhost:8080/",
          "height": 17
        },
        "id": "4-aAksEVEqmV",
        "outputId": "830e4a30-c922-4488-d3b9-67fec7ebc54b"
      },
      "execution_count": null,
      "outputs": [
        {
          "output_type": "display_data",
          "data": {
            "text/plain": [
              "<IPython.core.display.Javascript object>"
            ],
            "application/javascript": [
              "let day = \"Wednesday\";\n",
              "\n",
              "switch (day) {\n",
              "    case \"Monday\":\n",
              "        console.log(\"Go to the gym.\");\n",
              "        break;\n",
              "    case \"Tuesday\":\n",
              "        console.log(\"Attend a meeting.\");\n",
              "        break;\n",
              "    case \"Wednesday\":\n",
              "        console.log(\"Work from home.\");\n",
              "        break;\n",
              "    case \"Thursday\":\n",
              "        console.log(\"Have a project deadline.\");\n",
              "        break;\n",
              "    case \"Friday\":\n",
              "        console.log(\"Go out for dinner.\");\n",
              "        break;\n",
              "    case \"Saturday\":\n",
              "        console.log(\"Relax and enjoy time.\");\n",
              "        break;\n",
              "    case \"Sunday\":\n",
              "        console.log(\"Prepare for the week ahead.\");\n",
              "        break;\n",
              "    default:\n",
              "        console.log(\"Not a valid day.\");\n",
              "}\n"
            ]
          },
          "metadata": {}
        }
      ]
    },
    {
      "cell_type": "markdown",
      "source": [
        "### Ternary operator\n",
        "**Syntax**\n",
        "```javascript\n",
        "condition ? codeIfTrue : codeIfFalse;\n",
        "```\n"
      ],
      "metadata": {
        "id": "kKMWbXC4GKOR"
      }
    },
    {
      "cell_type": "code",
      "source": [
        "# Ternary poperator code example\n",
        "%%javascript\n",
        "let age = 18;\n",
        "\n",
        "const canVote = (age >= 18) ? \"Eligible for vote\" : \"Not eligible for vote\";\n",
        "\n",
        "console.log(canVote);"
      ],
      "metadata": {
        "colab": {
          "base_uri": "https://localhost:8080/",
          "height": 17
        },
        "id": "PJgY731_HJwh",
        "outputId": "deed52ed-0b06-4f44-f4c7-e8ae60e94a40"
      },
      "execution_count": null,
      "outputs": [
        {
          "output_type": "display_data",
          "data": {
            "text/plain": [
              "<IPython.core.display.Javascript object>"
            ],
            "application/javascript": [
              "let age = 18;\n",
              "\n",
              "const canVote = (age >= 18) ? \"Eligible for vote\" : \"Not eligible for vote\";\n",
              "\n",
              "console.log(canVote);\n"
            ]
          },
          "metadata": {}
        }
      ]
    },
    {
      "cell_type": "markdown",
      "source": [
        "## Q2. Write a program that grades students based on their marks.\n",
        "* If greater than 90 then A Grade\n",
        "*  If between 70 and 90 then a B grade\n",
        "* If between 50 and 70 then a C grade\n",
        "* Below 50 then an F grade\n",
        "\n",
        "=>\n",
        "\n",
        "There are multiple way to solve this problem.\n",
        "Here i use nested `if-else` statement."
      ],
      "metadata": {
        "id": "47bJvvVZ9sI_"
      }
    },
    {
      "cell_type": "code",
      "source": [
        "%%javascript\n",
        "let marks = 46;\n",
        "if(marks > 90) {\n",
        "  console.log(\"A Grade\");\n",
        "}else if(marks >= 70 && marks <= 90) {\n",
        "  console.log(\"B Grade\");\n",
        "}else if(marks >= 50 && marks <= 70) {\n",
        "  console.log(\"C Grade\");\n",
        "}else { // marks bellow 50\n",
        "  console.log(\"F Grade\");\n",
        "};"
      ],
      "metadata": {
        "id": "BIMwliQsM-z6"
      },
      "execution_count": null,
      "outputs": []
    },
    {
      "cell_type": "markdown",
      "source": [
        "## Q3. What are loops, and what do we need them? Explain different types of loops with their syntax and examples.\n",
        "\n",
        "\n",
        "=>\n",
        "\n",
        "Loops are fundamental aspects of every programing language, loops allow us to automate repetative task that happens again and again.\n",
        "\n",
        "For example, when a person go to a gym, the person might lift some weight, let's say the person lifting weight 10 times. To represents every weight lifting we might think we can `console.log()` 10 times. But in programing aspect this is not a good or ideal approach to solve this problem. In order to impleament task repetation `loops` will come into the action.\n",
        "\n",
        "\n",
        "There are several types of loops available in JavaScript, each with its own use case. Here's a breakdown of two main loop types:\n",
        "\n",
        "* while loop\n",
        "* for loop\n",
        "\n",
        "\n",
        "### While loop\n",
        "While loop is just like `if` statement, in the `if` statement have a condition, if the condition is true the statement will execute. But the main difference between `if` statement and `while` loop is that in the while loop if the specified condition is true then block of statement will execute, while statement is executed it will check condition again. This process happen again and again until the specified condition is false. If condition is false then loop will stop.\n",
        "\n",
        "**Syntax**\n",
        "\n",
        "\n",
        "```javascript\n",
        "let i = 1; // looping variable\n",
        "\n",
        "while(condition) { // looping condition\n",
        "  // statement execute each iteration if specified condition is true.\n",
        "  // update looping variable\n",
        "}\n",
        "```\n",
        "\n",
        "* **initialization** : counter variable declaration for this loop, that evaluated once before loop begins. Typically use `let` keyword to declare init variable.\n",
        "\n",
        "* **condition** : An expression to be evaluated before each loop iteration. If condition is true then the next eteration will run, but as soon as this condition is false then the loop stop.\n",
        "\n",
        "* **update** : An expression that will evaluated end of the each loop. Generally used to increment/decrement counter variable.\n",
        "\n",
        "* **statement** : a statement that will execute every iteration.\n",
        "\n",
        "\n"
      ],
      "metadata": {
        "id": "0R_RATfmNM0A"
      }
    },
    {
      "cell_type": "code",
      "source": [
        "# while loop\n",
        "%%javascript\n",
        "\n",
        "let rep = 1;\n",
        "while(rep <= 10) {\n",
        "  console.log(\"Lifting weight repetation: \" + rep);\n",
        "  rep++;\n",
        "};"
      ],
      "metadata": {
        "id": "mmjs71RAsY_B"
      },
      "execution_count": null,
      "outputs": []
    },
    {
      "cell_type": "markdown",
      "source": [
        "### For loop\n",
        "This is a very common loop used when we know how many times we want to iterate. It has three parts: initialization, condition, and increment/decrement. The code inside the loop runs as long as the condition is true.\n",
        "\n",
        "**Syntax**\n",
        "```javascript\n",
        "for(initialization; condition; update){\n",
        "  // code run in each iteration\n",
        "}\n",
        "```\n"
      ],
      "metadata": {
        "id": "iqyR3ieRsF6P"
      }
    },
    {
      "cell_type": "code",
      "source": [
        "# for loop code example-\n",
        "%%javascript\n",
        "\n",
        "for (let rep = 1; rep <= 10; rep++) {\n",
        "  console.log(\"Lifting weight repetation: \" + rep);\n",
        "}\n"
      ],
      "metadata": {
        "colab": {
          "base_uri": "https://localhost:8080/",
          "height": 17
        },
        "id": "clDmdZxa8oUt",
        "outputId": "76875e1f-6e7d-4ffb-e6d2-229fdc174498"
      },
      "execution_count": null,
      "outputs": [
        {
          "output_type": "display_data",
          "data": {
            "text/plain": [
              "<IPython.core.display.Javascript object>"
            ],
            "application/javascript": [
              "\n",
              "for (let rep = 1; rep <= 10; rep++) {\n",
              "  console.log(\"Lifting weight \" + rep);\n",
              "}\n"
            ]
          },
          "metadata": {}
        }
      ]
    },
    {
      "cell_type": "markdown",
      "source": [
        "first wrote keyword `for` then opening and closing perenthisis. in between perenthisis there are three parts involve, first declare a counter variable `rep`, then second part is logical condition i.e. evaluated before each eteration of the loop. here condition is `rep <= 10` mean this condition will evaluated before each eteration of the loop. If condition is true then the next eteration will run, but as soon as this condition is false then the loop stop. And third part is increase `rep` value by 1. `console.log(\"Lifting weight \" + rep)` executing console.log statement every iteration."
      ],
      "metadata": {
        "id": "DcTc_eaOxboQ"
      }
    },
    {
      "cell_type": "markdown",
      "source": [
        "## Q4. Generate numbers between any 2 given numbers.\n",
        "**Ex:**\n",
        "\n",
        "* const num1 = 10;\n",
        "* const num2 = 25;\n",
        "\n",
        "**Output** 11, 12, 13, ....., 25"
      ],
      "metadata": {
        "id": "WHRgBqFvPbsp"
      }
    },
    {
      "cell_type": "code",
      "source": [
        "%%javascript\n",
        "\n",
        "const num1 = 10;\n",
        "const num2 = 25;\n",
        "\n",
        "for (let i = num1; i <= num2; i++) {\n",
        "  console.log(i + 1);\n",
        "}"
      ],
      "metadata": {
        "colab": {
          "base_uri": "https://localhost:8080/",
          "height": 17
        },
        "id": "Z4rvycdDPeE6",
        "outputId": "5eef2092-fa0f-4e7f-92da-6c30e0d5dae9"
      },
      "execution_count": null,
      "outputs": [
        {
          "output_type": "display_data",
          "data": {
            "text/plain": [
              "<IPython.core.display.Javascript object>"
            ],
            "application/javascript": [
              "\n",
              "const num1 = 10;\n",
              "const num2 = 25;\n",
              "\n",
              "for (let i = num1; i <= num2; i++) {\n",
              "  console.log(i + 1);\n",
              "}\n"
            ]
          },
          "metadata": {}
        }
      ]
    },
    {
      "cell_type": "markdown",
      "source": [
        "## Q5. Use the while loop to print numbers from 1 to 25 in ascending and descending order."
      ],
      "metadata": {
        "id": "uDGhheRe9kJl"
      }
    },
    {
      "cell_type": "code",
      "source": [
        "%%javascript\n",
        "\n",
        "//Ascending order\n",
        "let i = 1;\n",
        "while(i <= 25) {\n",
        "  console.log(i);\n",
        "  i++;\n",
        "};\n",
        "\n",
        "// Decending order\n",
        "\n",
        "let j = 25;\n",
        "while(j >= 1) {\n",
        "  console.log(j);\n",
        "  j--;\n",
        "};"
      ],
      "metadata": {
        "colab": {
          "base_uri": "https://localhost:8080/",
          "height": 17
        },
        "id": "Fm9LSMtZjMdO",
        "outputId": "b509c3ed-b4f9-4e1a-930e-26e7cc56a2cd"
      },
      "execution_count": null,
      "outputs": [
        {
          "output_type": "display_data",
          "data": {
            "text/plain": [
              "<IPython.core.display.Javascript object>"
            ],
            "application/javascript": [
              "\n",
              "//Ascending order\n",
              "let i = 1;\n",
              "while(i <= 25) {\n",
              "  console.log(i);\n",
              "  i++;\n",
              "};\n",
              "\n",
              "// Decending order\n",
              "\n",
              "let j = 25;\n",
              "while(j >= 1) {\n",
              "  console.log(j);\n",
              "  j--;\n",
              "};\n"
            ]
          },
          "metadata": {}
        }
      ]
    }
  ]
}