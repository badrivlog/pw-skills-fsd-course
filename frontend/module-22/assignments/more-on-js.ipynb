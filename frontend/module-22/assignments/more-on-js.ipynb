{
  "nbformat": 4,
  "nbformat_minor": 0,
  "metadata": {
    "colab": {
      "provenance": []
    },
    "kernelspec": {
      "name": "python3",
      "display_name": "Python 3"
    },
    "language_info": {
      "name": "python"
    }
  },
  "cells": [
    {
      "cell_type": "markdown",
      "source": [
        "# More on JavaScript Assignment, module-22\n",
        "\n",
        "## Assigment Questions\n",
        "\n",
        "### Q1: Understanding Arrow Functions & Lexical this\n",
        "Consider the following code **and predict the output**. Explain why the behavior occurs.\n"
      ],
      "metadata": {
        "id": "8sfqRDXNchb5"
      }
    },
    {
      "cell_type": "code",
      "execution_count": null,
      "metadata": {
        "id": "FP4C28gGcfq3"
      },
      "outputs": [],
      "source": [
        "%%js\n",
        "const person = {\n",
        "  name: \"Alice\",\n",
        "  greet: function () {\n",
        "    console.log(this.name);\n",
        "    setTimeout(() => {\n",
        "      console.log(`Hello my name is ${this.name}`);\n",
        "    }, 1000);\n",
        "  },\n",
        "};\n",
        "\n",
        "person.greet();"
      ]
    },
    {
      "cell_type": "markdown",
      "source": [
        "- Arrow function does not have it's own `this` context, instead it will simply use this context of it's lexical(parent) `this` context.\n",
        "- And in this case, that will be the `greet` method, and here the `this` context is `person` object\n",
        "- And therefore then here in an arrow function, that would also be the `this` context.\n",
        "- Then it is going to work as expected, because the arrow function defined in the `setTimeout` uses the `this` context from it's lexical scope.\n",
        "- So basically an arrow function inherits the `this` context from the parent or lexical scope."
      ],
      "metadata": {
        "id": "sF-2pgundsef"
      }
    },
    {
      "cell_type": "markdown",
      "source": [
        "### Q2: Convert Traditional Functions to Arrow Functions\n",
        "Rewrite the following function using **arrow functions** without changing the behavior:\n",
        "```javascript\n",
        "function multiply(a, b) {\n",
        "  return a * b;\n",
        "}\n",
        "const obj = {\n",
        "  value: 10,\n",
        "  add: function (num) {\n",
        "    return this.value + num;\n",
        "  },\n",
        "};\n",
        "console.log(multiply(5, 3));\n",
        "console.log(obj.add(5));\n",
        "```\n"
      ],
      "metadata": {
        "id": "eIMVRfu7fOxJ"
      }
    },
    {
      "cell_type": "code",
      "source": [
        "%%js\n",
        "\n",
        "const multiply = (a, b) => a * b;\n",
        "const obj = {\n",
        "  value: 10,\n",
        "  add: (num) => {\n",
        "    return this.value + num;\n",
        "  },\n",
        "};\n",
        "console.log(obj.add(5)); // output: NaN"
      ],
      "metadata": {
        "id": "oOSyGfbkfkaQ"
      },
      "execution_count": null,
      "outputs": []
    },
    {
      "cell_type": "markdown",
      "source": [
        "- In the `multiply` object an `add` menthod defined in the global scope,\n",
        "  because it is defined in the object literals.\n",
        "  - Arrow function does not have its own `this` context.\n",
        "  - Then inside of the add method `this` constext is `window` object, and in the\n",
        "  window object the `this.value` will be undefined.\n",
        "  - So here this.value will be undefined\n",
        "  and the add method return value will be NaN(Not a Number)."
      ],
      "metadata": {
        "id": "R2upEjr7f0G-"
      }
    },
    {
      "cell_type": "markdown",
      "source": [
        "### Q3: Handling Errors in Async-Await (Try-Catch Required)\n",
        "Modify the following function to **use async-await and proper error handling (try-catch).**\n",
        "\n",
        " **Original Code (With Promise):**\n",
        " ```javascript\n",
        " function fetchData() {\n",
        "  return new Promise((resolve, reject) => {\n",
        "    setTimeout(() => {\n",
        "      let success = Math.random() > 0.5;\n",
        "      success ? resolve(\"Data received\") : reject(\"Error fetching data\");\n",
        "    }, 2000);\n",
        "  });\n",
        "}\n",
        "\n",
        "fetchData().then(console.log).catch(console.error);\n",
        "```"
      ],
      "metadata": {
        "id": "vI3_PNjVgh2l"
      }
    },
    {
      "cell_type": "code",
      "source": [
        "%%js\n",
        "\n",
        "function fetchData() {\n",
        "  return new Promise((resolve, reject) => {\n",
        "    setTimeout(() => {\n",
        "      let success = Math.random() > 0.5;\n",
        "      success\n",
        "        ? resolve(\"Data received\")\n",
        "        : reject(new Error(\"Error fetching data\"));\n",
        "    }, 2000);\n",
        "  });\n",
        "}\n",
        "\n",
        "async function handleFetchData() {\n",
        "  try {\n",
        "    const data = await fetchData();\n",
        "    console.log(data); // Output: Data received\n",
        "  } catch (err) {\n",
        "    console.error(err.message); // Output: Error fetching data\n",
        "  }\n",
        "}\n",
        "\n",
        "handleFetchData();"
      ],
      "metadata": {
        "id": "OGENiPy-hJz4"
      },
      "execution_count": null,
      "outputs": []
    },
    {
      "cell_type": "markdown",
      "source": [
        "### Q4: Async Function with Multiple Await Calls\n",
        "Write an async function that:\n",
        "\n",
        "1. Fetches **user data** after 1 second.\n",
        "2. Fetches **order details** after 2 seconds.\n",
        "3. Fetches **payment status** after 3 seconds.\n",
        "4. Logs the final **\"Order completed\"** message.\n",
        "5. Use await to ensure each step executes sequentially."
      ],
      "metadata": {
        "id": "KZRazOqahR-P"
      }
    },
    {
      "cell_type": "code",
      "source": [
        "%%js\n",
        "\n",
        "function fetchUserData() {\n",
        "  return new Promise((resolve) => {\n",
        "    setTimeout(() => {\n",
        "      resolve(\"User data fetched\");\n",
        "    }, 1000);\n",
        "  });\n",
        "}\n",
        "\n",
        "function fetchOrderDetails() {\n",
        "  return new Promise((resolve) => {\n",
        "    setTimeout(() => {\n",
        "      resolve(\"Order details fetched\");\n",
        "    }, 2000);\n",
        "  });\n",
        "}\n",
        "\n",
        "function fetchPaymentStatus() {\n",
        "  return new Promise((resolve) => {\n",
        "    setTimeout(() => {\n",
        "      resolve(\"Payment status fetched\");\n",
        "    }, 3000);\n",
        "  });\n",
        "}\n",
        "\n",
        "async function processOrder() {\n",
        "  try {\n",
        "    const user = await fetchUserData();\n",
        "    console.log(user); //Output: User data fetched\n",
        "\n",
        "    const order = await fetchOrderDetails();\n",
        "    console.log(order); // Output: Order details fetched\n",
        "\n",
        "    const payment = await fetchPaymentStatus();\n",
        "    console.log(payment); // Output: Payment status fetched\n",
        "\n",
        "    console.log(\"Order completed\");\n",
        "  } catch (error) {\n",
        "    console.error(\"Error processing order:\", error);\n",
        "  }\n",
        "}\n",
        "\n",
        "processOrder();"
      ],
      "metadata": {
        "id": "5lZqTu_shvQf"
      },
      "execution_count": null,
      "outputs": []
    },
    {
      "cell_type": "markdown",
      "source": [
        "### Q5: Handling Synchronous Errors with try-catch\n",
        "Write a function that:\n",
        "\n",
        "1. Accepts a string input.\n",
        "2. Converts it to a number and returns its square.\n",
        "3. Uses try-catch to handle cases where the input is not a valid number.\n",
        "4. If the error occurs, return \"Invalid Input\" instead of crashing."
      ],
      "metadata": {
        "id": "LKs2X5pOhy5B"
      }
    },
    {
      "cell_type": "code",
      "source": [
        "%%js\n",
        "\n",
        "function makeSquare(val) {\n",
        "  try {\n",
        "    const num = Number(val);\n",
        "\n",
        "    if (isNaN(num)) {\n",
        "      throw new Error(\"Not a valid number\");\n",
        "    }\n",
        "\n",
        "    return num * num;\n",
        "  } catch (err) {\n",
        "    return `${val} is an invalid input, ${err}`;\n",
        "  }\n",
        "}\n",
        "\n",
        "console.log(makeSquare(5)); // Output: 25\n",
        "console.log(makeSquare(\"hello\")); // Output: hello is an invalid input, Error: Not a valid number\n",
        "console.log(makeSquare(undefined)); // Output: undefined is an invalid input, Error: Not a valid number\n"
      ],
      "metadata": {
        "id": "GxeNw26EiKuz"
      },
      "execution_count": null,
      "outputs": []
    }
  ]
}