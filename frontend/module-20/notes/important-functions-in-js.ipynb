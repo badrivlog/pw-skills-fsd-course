{
 "cells": [
  {
   "cell_type": "markdown",
   "id": "5f3dbaf9",
   "metadata": {},
   "source": [
    "# Important function in JavaScript\n",
    "\n",
    "## Topics to be covered in\n",
    "1. Anonymous Functio\n",
    "2. Named Function Expression\n",
    "3. First Class Function\n",
    "4. IIFE\n",
    "5. Pure and Impure Function\n",
    "6. Callback Function\n",
    "7. HOF\n",
    "8. Lambda Function\n",
    "9. Currying Function\n",
    "\n",
    "## Anonymous Function\n",
    "An anonymous function in javascript is a function that is defined without a specified function name.\n",
    "\n",
    "Let's take example to understand the declaration of anonymous function-"
   ]
  },
  {
   "cell_type": "code",
   "execution_count": null,
   "id": "349c27e3",
   "metadata": {
    "vscode": {
     "languageId": "javascript"
    }
   },
   "outputs": [],
   "source": [
    "// using the function expression\n",
    "const greet = function () {\n",
    "    console.log(\"Good morning\");\n",
    "};\n",
    "\n",
    "// using the arrow function\n",
    "const greet2 = () => {\n",
    "    console.log(\"Good afternoon\");\n",
    "};\n"
   ]
  },
  {
   "cell_type": "markdown",
   "id": "f5c499dd",
   "metadata": {},
   "source": [
    "As mentioned In the above example we can use function expression or arrow function to declare an\n",
    "anonymous function as it does not have any function name defined over there.\n",
    "\n",
    "## Named Function Expression\n",
    "A named function expression in javascript is a function expression that is assigned to a variable with a function name.\n",
    "\n",
    "**Let's take example to understand the declaration of named function expression-**\n"
   ]
  },
  {
   "cell_type": "code",
   "execution_count": null,
   "id": "bea43443",
   "metadata": {
    "vscode": {
     "languageId": "javascript"
    }
   },
   "outputs": [],
   "source": [
    "const greet = function namedFunctionExpression() {\n",
    "    console.log(\"Named Function Expression\");\n",
    "};\n",
    "\n",
    "greet();"
   ]
  },
  {
   "cell_type": "markdown",
   "id": "a541e743",
   "metadata": {},
   "source": [
    "In the above example, we can see that we had given the name to function after the function keyword and assigned the function to a variable named greet.\n",
    "\n",
    "| Anonymous Function | Named Function Expression |\n",
    "|--------------------|---------------------------|\n",
    "| It is defined without a specified name. | It is defined with a specified name and will be assigned to a variable. |\n",
    "| It does not have any specified name that’s why it cannot be self- referenced or called recursively. | By using the name of the function we call the function recursively inside its block. |\n",
    "| It is not easy to debug as they do not have any specific identifier. | It is not easy to debug as it has a name which can be used. |\n",
    "\n",
    "\n",
    "**Example**"
   ]
  },
  {
   "cell_type": "code",
   "execution_count": null,
   "id": "100161d1",
   "metadata": {
    "vscode": {
     "languageId": "javascript"
    }
   },
   "outputs": [],
   "source": [
    "// anonymous function\n",
    "const greet1 = function() {\n",
    "    console.log(\"Anonymous Function\");\n",
    "};\n",
    "\n",
    "// named function \n",
    "const greet2 = function namedFunctionExpression() {\n",
    "    console.log(\"Named Function Expression\")\n",
    "};"
   ]
  },
  {
   "cell_type": "markdown",
   "id": "f3467b01",
   "metadata": {},
   "source": [
    "## First Class Function\n",
    "In JavaScript, functions are first class citizens which means that the functions are treated like other variables. In simple words, we can pass a function as an argument and can also return it from a function like a normal variable.\n",
    "\n",
    "**Example of passing a function as argument**"
   ]
  },
  {
   "cell_type": "code",
   "execution_count": null,
   "id": "0b80ff10",
   "metadata": {
    "vscode": {
     "languageId": "javascript"
    }
   },
   "outputs": [],
   "source": [
    "function add(num1, num2) {\n",
    "    return num1 + num2;\n",
    "}\n",
    "\n",
    "function subtract(num1, num2) {\n",
    "    return num1 - num2;\n",
    "}\n",
    "\n",
    "function calculator(num1, num2, operation) {\n",
    "    return operation(num1, num2);\n",
    "}\n",
    "\n",
    "console.log(calculator(10, 4, add));\n",
    "console.log(calculator(10, 5, subtract));\n",
    "\n",
    "// output:\n",
    "// 14\n",
    "// 5"
   ]
  },
  {
   "cell_type": "markdown",
   "id": "df23794c",
   "metadata": {},
   "source": [
    "In the above example, we have add and subtract function which is returning the addition or subtraction of two numbers respectively. The third function calculator is taking the parameters num1, num2 and operation in which the num1 and num2 are numbers while the operation is the function passed to it. In the calculator function, it is calling the function passed to it with the given two numbers and returning their result."
   ]
  },
  {
   "cell_type": "markdown",
   "id": "a7eaa788",
   "metadata": {},
   "source": [
    "**Example for returning a function from another function**\n"
   ]
  },
  {
   "cell_type": "code",
   "execution_count": null,
   "id": "ea09412c",
   "metadata": {
    "vscode": {
     "languageId": "javascript"
    }
   },
   "outputs": [],
   "source": [
    "function creatGreeting(greet) {\n",
    "    return function (name) {\n",
    "        console.log(greet + \" \" + name);\n",
    "    };\n",
    "}\n",
    "\n",
    "const morning = creatGreeting(\"Good morning\");\n",
    "morning(\"PW Skills\");\n",
    "const night = creatGreeting(\"Good night\");\n",
    "night(\"PW Live\");\n",
    "\n",
    "// output\n",
    "// Good morning PW Skills\n",
    "// Good night PW Live"
   ]
  },
  {
   "cell_type": "markdown",
   "id": "49e23156",
   "metadata": {},
   "source": [
    "In the above example, we had a createGretting function which is taking a parameter for the greeting message and returning back a function which is taking the name of the user as a parameter and printing the greeting message and user name on console.\n",
    "\n",
    "\n",
    "So when createGreeting is called, it is returning the function which is being stored in the variable and then that variable is being invoked with the user name to print the greeting message and user name on the console.\n"
   ]
  },
  {
   "cell_type": "markdown",
   "id": "5537c659",
   "metadata": {},
   "source": [
    "## IIFE\n",
    "IIFE stands for immediately invoked function expression. It is a javascript function that is executed as soon as it is defined. It is an anonymous function which is executed as soon as they are mounted by using the parenthesis ().\n",
    "\n",
    "**Syntax**\n",
    "\n",
    "```js\n",
    "// using function keyword\n",
    "(function () {\n",
    "    // run any logic\n",
    "})();\n",
    "\n",
    "// using the arrow function\n",
    "(() => {\n",
    "    // run logic code\n",
    "})();\n",
    "```"
   ]
  },
  {
   "cell_type": "code",
   "execution_count": null,
   "id": "5c095ed8",
   "metadata": {
    "vscode": {
     "languageId": "javascript"
    }
   },
   "outputs": [],
   "source": [
    "(() => {\n",
    "    console.log(\"I am an IIFE\");\n",
    "})();\n",
    "\n",
    "// output\n",
    "// I am an IIFE"
   ]
  },
  {
   "cell_type": "markdown",
   "id": "9890c5bd",
   "metadata": {},
   "source": [
    "##  Pure and Impure Function\n",
    "\n",
    "**Pure Function**\n",
    "A function which always returns the same output for the same input parameter is called pure function Pure function is only dependent on the parameter it will take, not on the other part of the program and it will also not affect the state of the other parts of the code.\n",
    "\n",
    "**Example**\n"
   ]
  },
  {
   "cell_type": "code",
   "execution_count": null,
   "id": "927a0025",
   "metadata": {
    "vscode": {
     "languageId": "javascript"
    }
   },
   "outputs": [],
   "source": [
    "const add = (num1, num2) => {\n",
    "    return num1 + num2;\n",
    "};\n",
    "\n",
    "const addition1 = add(10, 20);\n",
    "const addition2 = add(10, 30);\n",
    "const addition3 = add(10, 40);\n",
    "const addition4 = add(10, 50);\n",
    "console.log(addition1, addition2, addition3, addition4);\n",
    "\n",
    "// output\n",
    "// 30, 40, 50, 60"
   ]
  },
  {
   "cell_type": "markdown",
   "id": "1edef4a6",
   "metadata": {},
   "source": [
    "In the above example, we can see that for the same parameters we are getting the same result and also our function is not affecting any variables which are before or after it while its execution. Hence the function add is a pure function.\n",
    "\n",
    "**Impure Function**\n",
    "\n",
    "A function which may return different values for the same input parameters is called impure function It may be dependent on the other code which is outside the function like any outside variable and can also modify the value of that particular variable while its execution.\n",
    "\n",
    "**Example**"
   ]
  },
  {
   "cell_type": "code",
   "execution_count": null,
   "id": "dea69f08",
   "metadata": {
    "vscode": {
     "languageId": "javascript"
    }
   },
   "outputs": [],
   "source": [
    "let totalValue = 100;\n",
    "const increaseValue = (increment) => {\n",
    "    return (totalValue += increment);\n",
    "};\n",
    "\n",
    "const value1 = increaseValue(50);\n",
    "const value2 = increaseValue(50);\n",
    "console.log(value1, value2);\n",
    "\n",
    "// output\n",
    "// 150, 200"
   ]
  },
  {
   "cell_type": "markdown",
   "id": "94ee710c",
   "metadata": {},
   "source": [
    "In the above example, we can see that we have passed the same argument in value1 and value2 but not\n",
    "getting the same result, also we are manipulating the value of totalValue which is defined outside the function. That’s why this one is an impure function.\n",
    "\n",
    "**Difference between pure and impure function**\n",
    "\n",
    "| Pure Function | Impure Function |\n",
    "|---------------|-----------------|\n",
    "| It does not modify others which are outside the function. | It can modify others which are outside the function |\n",
    "| It is only dependent upon the input parameters. | It may be dependent upon the other parts of the code. |\n",
    "| It is easier to test. | It is hard to test. |\n",
    "| It is easier to maintain. | It is harder to maintain. |\n",
    "\n",
    "\n",
    "## Callback Function\n",
    "\n",
    "A callback is a function that is passed as an argument to another function. It will run after the main function has finished its execution. While invoking the main function, the callback function will be passed to the function as an argument in it.\n",
    "\n",
    "\n",
    "Callback functions are quite important in handling the asynchronous code in javascript, which we will be discussing later in this course.\n",
    "\n",
    "**Example**"
   ]
  },
  {
   "cell_type": "code",
   "execution_count": null,
   "id": "0e18db67",
   "metadata": {
    "vscode": {
     "languageId": "javascript"
    }
   },
   "outputs": [],
   "source": [
    "const displayResult = (result) => {\n",
    "    console.log(\"Your result is\", result)\n",
    "};\n",
    "const add = (num1, num2, callback) => {\n",
    "    const result = num1 + num2;\n",
    "    callback(result);\n",
    "};\n",
    "\n",
    "const subtract = (num1, num2, callback) => {\n",
    "    const result = num1 - num2;\n",
    "    callback(result);\n",
    "}; \n",
    "\n",
    "add(10, 20, displayResult);\n",
    "add(10, 5, displayResult);\n",
    "\n",
    "// output\n",
    "// Your result is 30\n",
    "// Your result is 5"
   ]
  },
  {
   "cell_type": "markdown",
   "id": "aebd944c",
   "metadata": {},
   "source": [
    "As in the above example, we can see that we had a function to display the output to which we are passing as an argument to the add and subtract function and that one is executed at the end to display the result after the calculation. So displayResult is a callback function here.\n",
    "\n",
    "**Note**: We will see more examples and real life use cases of callback functions in advanced javascript modules."
   ]
  },
  {
   "cell_type": "markdown",
   "id": "eeaa0302",
   "metadata": {},
   "source": [
    "## Higher Order Function (HOF)\n",
    "\n",
    "HOF stands for Higher Order Function. A HOF is a function that takes one or more functions as arguments or returns a function as a result. This is the reason that the functions in javascript are called first class citizens as they can be treated as a variable.\n",
    "\n",
    "In other words, we can say that HOF operates on function, either by accepting them as a parameter or by returning them.\n",
    "\n",
    "**Example of returning a function from another function**"
   ]
  },
  {
   "cell_type": "code",
   "execution_count": null,
   "id": "82494852",
   "metadata": {
    "vscode": {
     "languageId": "javascript"
    }
   },
   "outputs": [],
   "source": [
    "function creatGreeting(greet) {\n",
    "    return function (name) {\n",
    "        console.log(greet + \" \" + name);\n",
    "    };\n",
    "}\n",
    "\n",
    "const morning = creatGreeting(\"Good morning\");\n",
    "morning(\"PW Skills\");\n",
    "const night = creatGreeting(\"Good night\");\n",
    "night(\"PW Live\");\n",
    "\n",
    "// output\n",
    "// Good morning PW Skills\n",
    "// Good night PW Live"
   ]
  },
  {
   "cell_type": "markdown",
   "id": "2b4330d5",
   "metadata": {},
   "source": [
    "In the above example, the createGreeting function is returning a function from it which is being stored in the morning and night variable and being invoked after it to get the output.\n",
    "\n",
    "**Example of passing a function to another function**"
   ]
  },
  {
   "cell_type": "code",
   "execution_count": null,
   "id": "b1eab0d5",
   "metadata": {
    "vscode": {
     "languageId": "javascript"
    }
   },
   "outputs": [],
   "source": [
    "function add(num1, num2) {\n",
    "    return num1 + num2;\n",
    "}\n",
    "\n",
    "function subtract(num1, num2) {\n",
    "    return num1 - num2;\n",
    "}\n",
    "\n",
    "function calculator(num1, num2, operation) {\n",
    "    return operation(num1, num2);\n",
    "}\n",
    "\n",
    "console.log(calculator(10, 4, add));\n",
    "console.log(calculator(10, 5, subtract));\n",
    "\n",
    "// output:\n",
    "// 14\n",
    "// 5"
   ]
  },
  {
   "cell_type": "markdown",
   "id": "1dc63e4a",
   "metadata": {},
   "source": [
    "## Lambda Function\n",
    "In javascript, lambda function is a short and anonymous function that takes one or more parameters and contains a single expression. Lambda functions are also referred to as arrow functions used for writing short and readable code.\n",
    "\n",
    "**Example**"
   ]
  },
  {
   "cell_type": "code",
   "execution_count": null,
   "id": "19598f22",
   "metadata": {
    "vscode": {
     "languageId": "javascript"
    }
   },
   "outputs": [],
   "source": [
    "const add = (num1, num2) => num1 + num2;\n",
    "console.log(add(10, 20));\n",
    "\n",
    "// output\n",
    "30"
   ]
  },
  {
   "cell_type": "markdown",
   "id": "c36e1c10",
   "metadata": {},
   "source": [
    "In the above example, we are using the arrow function and getting two parameters in it and have a single expression which will be returned by default as it is an arrow function."
   ]
  },
  {
   "cell_type": "markdown",
   "id": "223dd210",
   "metadata": {},
   "source": [
    "## Function Currying\n",
    "It is a technique used to transform a function of multiple parameters into several functions of a single argument in sequence. By using this technique we can easily make our code more readable, reusable and easy to test and debug.\n",
    "\n",
    "**Example**"
   ]
  },
  {
   "cell_type": "code",
   "execution_count": null,
   "id": "00b463b6",
   "metadata": {
    "vscode": {
     "languageId": "javascript"
    }
   },
   "outputs": [],
   "source": [
    "// using simple arrow function\n",
    "function calculateVolume(length, breadth, height) {\n",
    "    return length * breadth * height;\n",
    "}\n",
    "\n",
    "const volume = calculateVolume(2, 5, 10);\n",
    "console.log(volume);\n",
    "// output\n",
    "// 100\n",
    "\n",
    "// using the function currying method\n",
    "function calculateNewVolume(length) {\n",
    "    return function (breadth) {\n",
    "        return function (height) {\n",
    "            return length * breadth * height;\n",
    "        };\n",
    "    };\n",
    "}\n",
    "\n",
    "const newVolume = calculateNewVolume(2)(5)(10);\n",
    "console.log(newVolume);\n",
    "// output\n",
    "// 100"
   ]
  },
  {
   "cell_type": "markdown",
   "id": "82ca9d8d",
   "metadata": {},
   "source": [
    "In the above example, inside the function currying we had just separated all the parameters in an individual function which makes it more readable. Also we can see that we are using function chaining inside the function currying to invoke them one after another."
   ]
  }
 ],
 "metadata": {
  "kernelspec": {
   "display_name": "Python 3",
   "language": "python",
   "name": "python3"
  },
  "language_info": {
   "name": "python",
   "version": "3.9.6"
  }
 },
 "nbformat": 4,
 "nbformat_minor": 5
}
