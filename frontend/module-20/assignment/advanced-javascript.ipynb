{
  "cells": [
    {
      "cell_type": "markdown",
      "metadata": {
        "id": "W-dxWQzA0jAq"
      },
      "source": [
        "# Advanced javascript assignment solutions\n",
        "\n",
        "## Problem 1\n",
        "Create a Map in JavaScript and perform the following operations\n",
        "- Add key-value pairs to the Map\n",
        "- Check if a specific key exists\n",
        "- Retrieve the value associated with a given key\n",
        "- Iterate through all key-value pairs."
      ]
    },
    {
      "cell_type": "code",
      "execution_count": null,
      "metadata": {
        "id": "kseDkppE0bZb"
      },
      "outputs": [],
      "source": [
        "%%javascript\n",
        "// add key-value pairs to the Map\n",
        "const quizQuestion = new Map([\n",
        "  [\"question\", \"what is the best programing language in the world ?\"],\n",
        "  [1, \"Java\"],\n",
        "  [2, \"C++\"],\n",
        "  [3, \"JavaScript\"],\n",
        "  [\"correct\", 3],\n",
        "  [true, 3],\n",
        "  [\"false\", \"try again!\"],\n",
        "]);\n",
        "\n",
        "// Check if a specific key exists\n",
        "console.log(quizQuestion.has(\"question\"));\n",
        "\n",
        "// Retrieve the value associated with a given key\n",
        "console.log(quizQuestion.get(3));\n",
        "\n",
        "// Iterate through all key-value pairs.\n",
        "for (const [key, value] of quizQuestion) {\n",
        "  console.log(key, value);\n",
        "};"
      ]
    },
    {
      "cell_type": "markdown",
      "metadata": {
        "id": "jeC78jif3lik"
      },
      "source": [
        "## Problem 2\n",
        "Create a Map to store contact information (name, age, email, location) and implement a function to retrieve contact details by name."
      ]
    },
    {
      "cell_type": "code",
      "execution_count": null,
      "metadata": {
        "id": "pbRaIEoXNhzc"
      },
      "outputs": [],
      "source": [
        "%%javascript\n",
        "\n",
        "const userContacts = new Map();\n",
        "userContacts.set(\"Baidya\", {\n",
        "  age: 78,\n",
        "  email: \"test1gmail.com\",\n",
        "  city: \"kolkata\",\n",
        "});\n",
        "userContacts.set(\"Rahul\", {\n",
        "  age: 35,\n",
        "  email: \"test2@gmail.com\",\n",
        "  city: \"mumbai\",\n",
        "});\n",
        "userContacts.set(\"Ravi\", {\n",
        "  age: 56,\n",
        "  email: \"test3@gmail.com\",\n",
        "  city: \"chennai\",\n",
        "});\n",
        "\n",
        "function getUserContactInfo(name) {\n",
        "  console.log(userContacts.has(name));\n",
        "  if (userContacts.has(name)) {\n",
        "    const contact = userContacts.get(name);\n",
        "    console.log(\n",
        "      `Hello My Name is ${name}, I'm ${contact.age} year old from ${contact.city} and here's my email- ${contact.email}`\n",
        "    );\n",
        "  }\n",
        "}\n",
        "\n",
        "getUserContactInfo(\"Ravi\");\n"
      ]
    },
    {
      "cell_type": "markdown",
      "metadata": {
        "id": "-BOKbySGONQd"
      },
      "source": [
        "## Problem 3\n",
        "You are given an array of numbers named myArray. Create a function that takes any number of arguments and adds them to the existing array. Use the spread and rest operator."
      ]
    },
    {
      "cell_type": "code",
      "execution_count": null,
      "metadata": {
        "id": "Nq1-_VexRET7"
      },
      "outputs": [],
      "source": [
        "%%javascript\n",
        "\n",
        "let myArray = [28, 97, 63, 78, 54];\n",
        "\n",
        "function combineArray(...allInputs) {\n",
        "  myArray = [...myArray, ...allInputs];\n",
        "}\n",
        "\n",
        "combineArray(11, 37, 90, 33, 59, 62);\n",
        "console.log(myArray); // Output: [28, 97, 63, 78, 54, 11, 37, 90, 33, 59, 62]"
      ]
    },
    {
      "cell_type": "markdown",
      "metadata": {
        "id": "wIxiHN-7RGYf"
      },
      "source": [
        "## Problem 4\n",
        "Create an object car with properties brand, model, and a method displayDetails that prints \"Brand: [brand], Model: `[model]`\". Test the method using this keyword."
      ]
    },
    {
      "cell_type": "code",
      "execution_count": null,
      "metadata": {
        "id": "onoQ8xr2SqRs"
      },
      "outputs": [],
      "source": [
        "%%javascript\n",
        "\n",
        "const car = {\n",
        "  brand: \"Rolls-Royce\",\n",
        "  model: \"La Rose Noire Droptail\",\n",
        "  displayDetails() {\n",
        "    console.log(`Brand: ${this.brand}, Model: ${this.model}`);\n",
        "  },\n",
        "};\n",
        "\n",
        "car.displayDetails();"
      ]
    },
    {
      "cell_type": "markdown",
      "metadata": {
        "id": "dY9uCGMZSw3z"
      },
      "source": [
        "## Problem 5\n",
        "Create two objects person1 and person2 with properties name and age. Create a function “introduce” that prints \"Hello, I'm [name], and I'm [age] years old.\" Use the call method to make person2 introduce itself using the introduce function."
      ]
    },
    {
      "cell_type": "code",
      "execution_count": null,
      "metadata": {
        "id": "jfPTiqKZVGlF",
        "vscode": {
          "languageId": "javascript"
        }
      },
      "outputs": [],
      "source": [
        "%%javascript\n",
        "\n",
        "const person1 = {\n",
        "  name: \"Baidyanath\",\n",
        "  age: 88,\n",
        "};\n",
        "const person2 = {\n",
        "  name: \"Ravi\",\n",
        "  age: 67,\n",
        "};\n",
        "\n",
        "function introduce() {\n",
        "  console.log(`Hello I'm ${this.name}, and I'm ${this.age} years old`);\n",
        "}\n",
        "introduce.call(person1);\n",
        "introduce.call(person2);\n",
        "\n",
        "//Output:\n",
        "// Hello I'm Baidyanth, and I'm 88 years old\n",
        "// Hello I'm Ravi, and I'm 67 years old\n"
      ]
    }
  ],
  "metadata": {
    "colab": {
      "provenance": []
    },
    "kernelspec": {
      "display_name": "Python 3",
      "name": "python3"
    },
    "language_info": {
      "name": "python"
    }
  },
  "nbformat": 4,
  "nbformat_minor": 0
}
