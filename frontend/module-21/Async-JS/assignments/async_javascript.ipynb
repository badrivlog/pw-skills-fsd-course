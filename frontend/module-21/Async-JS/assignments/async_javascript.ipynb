{
  "nbformat": 4,
  "nbformat_minor": 0,
  "metadata": {
    "colab": {
      "provenance": []
    },
    "kernelspec": {
      "name": "python3",
      "display_name": "Python 3"
    },
    "language_info": {
      "name": "python"
    }
  },
  "cells": [
    {
      "cell_type": "markdown",
      "source": [
        "# Async JavaScript\n",
        "\n",
        "## **1. Demonstrate JavaScript's Single-Threaded Nature**\n",
        "question:\n",
        "\n",
        "write an example to show that JavaScript is **single-threaded** by creating two competing tasks, one that\n",
        "blocks the event loop and another async function that waits for a promise.\n",
        "\n",
        "\n",
        "=>\n",
        "\n",
        "Javascript is single-threaded. A thread is a sequence of instructions that a program follows, it can only do one thing at a time: so if it is waiting for our long-running synchronous call to return, it can't do anything else."
      ],
      "metadata": {
        "id": "QeLio421Kb2k"
      }
    },
    {
      "cell_type": "code",
      "execution_count": null,
      "metadata": {
        "colab": {
          "base_uri": "https://localhost:8080/",
          "height": 17
        },
        "id": "gnAJz6sOKQJt",
        "outputId": "54c65531-50dd-4760-8894-ab1f0496376c"
      },
      "outputs": [
        {
          "output_type": "display_data",
          "data": {
            "text/plain": [
              "<IPython.core.display.Javascript object>"
            ],
            "application/javascript": [
              "console.log(\"Program start\");\n",
              "\n",
              "function asyncTask() {\n",
              "  console.log(\"Promise start\");\n",
              "  return Promise.resolve(\"Promise done\");\n",
              "}\n",
              "\n",
              "asyncTask().then((result) => console.log(result));\n",
              "\n",
              "function blockingTask() {\n",
              "  console.log(\"blocking code start\");\n",
              "  for (let i = 0; i < 10000000000; i++) {\n",
              "    // do some task\n",
              "  }\n",
              "  console.log(\"blocking code end\");\n",
              "}\n",
              "\n",
              "blockingTask();\n",
              "console.log(\"Program end\");\n"
            ]
          },
          "metadata": {}
        }
      ],
      "source": [
        "%%javascript\n",
        "console.log(\"Program start\");\n",
        "\n",
        "function asyncTask() {\n",
        "  console.log(\"Promise start\");\n",
        "  return Promise.resolve(\"Promise done\");\n",
        "}\n",
        "\n",
        "asyncTask().then((result) => console.log(result));\n",
        "\n",
        "function blockingTask() {\n",
        "  console.log(\"blocking task start\");\n",
        "  for (let i = 0; i < 10000000000; i++) {\n",
        "    // do some task\n",
        "  }\n",
        "  console.log(\"blocking task end\");\n",
        "}\n",
        "\n",
        "blockingTask();\n",
        "console.log(\"Program end\");\n",
        "\n",
        "/* output:\n",
        " Program start\n",
        " Promise start\n",
        " blocking task start\n",
        " blocking task end\n",
        " Program end\n",
        " Promise done\n",
        "*/"
      ]
    },
    {
      "cell_type": "markdown",
      "source": [
        "Above code snippet proves that Javascript is a **single-threaded.**\n",
        "\n",
        "It means, in the javascript runtime engine there is one main execution context called **callstack.** Where all synchronous code is executed line by line first, execute **synchronous** code only.\n",
        "\n",
        "Asynchronous operations (like setTimeout, fetch, Promises, etc.) do not directly go on the call stack. Instead:\n",
        "\n",
        "The asynchronous operation is handled by the Web APIs or Node APIs provided by the environment. Once the asynchronous operation completes, its callback (or promise .then/.catch) is sent to the **callback queue** (or microtask queue for promises). The **event loop** checks if the call stack is empty, and if so, it pushes the next callback from the queue onto the call stack for execution.\n",
        "\n",
        "**Step by step example execution**\n",
        "\n",
        "1. `console.log(\"Program start\")`  \n",
        "* logs message in the javascript console `Program start`.\n",
        "2. Function `asyncTask` called\n",
        "* inside `asyncTask` function logs message `Promise start`.\n",
        "* returns `Promise.resolve(\"Promise done\")`.\n",
        "* `Promise.resolve()` creates a resolved promise immediately, but the `.then()` callback is scheduled to run in the microtask queue, after the current synchronous code finishes.\n",
        "3. Function `blockingTaksk` is called\n",
        "* logs `blocking task start`\n",
        "* this function defines heavy loop, this loop blocks the **event loop**. Because this loop might take long time to finish.\n",
        "* after finish the loop logs `blocking task end`\n",
        "* `console.log(\"Program end\")`.\n",
        "\n",
        "* and the last `Promise done` message prints, because in the runtime **event loop** sees that all the synchronous code execution done, then start taking  function from the microtask queue and execute that function in the **call stack**.\n",
        "\n",
        "<img src=\"https://drive.google.com/uc?export=view&id=19-kTXqAS-h_5td_Ed7BrQo18tLKeIquy\" width=\"100%\"  alt=\"module-09-assignment-task-04\"/>\n",
        "\n",
        "\n",
        "\n",
        "\n"
      ],
      "metadata": {
        "id": "sLQmkRNJPJ3m"
      }
    },
    {
      "cell_type": "markdown",
      "source": [
        "## **2. Why Does JavaScript Not Execute Asynchronously by Default?**\n",
        "\n",
        "question:\n",
        "\n",
        "JavaScript is often called **synchronous** and **single-threaded**, yet it handles asynchronous tasks like AJAX requests, timers, and event listeners\n",
        "\n",
        "a. Explain why JavaScript does not execute asynchronously by default.\n",
        "\n",
        "b. Write a code snippet to prove that JavaScript is inherently synchronous.\n",
        "\n",
        "=>\n",
        "\n",
        "Javascript is **synchronous** which means code execution happen line by line, each line of code waits for previous line to finish. **single-threaded** means, it can only do one thing at a time.\n",
        "\n",
        "The question is that, why does JS not execute async by default?\n",
        "\n",
        "Assume that, JS exceute asychronous code by defalut, and suppose an application needs get some data from server. The data fetching task might take some time. If the data fetching/AJAX request async task execute in the global execution thread and JS is **single-threaded**. Then code execution will block here and user have to wait until finish the task. That will bring bad user experience.\n",
        "\n",
        "There are other reasons too, but blocking global code execution thread is one biggest reason why JS is not execute async code by default. Althogh JS runtime engine can perform async code in superb way(Promise, setTimeout, setInterval)."
      ],
      "metadata": {
        "id": "ZYi7-pZJjFT1"
      }
    },
    {
      "cell_type": "code",
      "source": [
        "%%javascript\n",
        "\n",
        "console.log(\"start\");\n",
        "\n",
        "for(let i = 0; i < 10000000000; i++) {\n",
        "}\n",
        "\n",
        "console.log(\"end\")"
      ],
      "metadata": {
        "colab": {
          "base_uri": "https://localhost:8080/",
          "height": 17
        },
        "id": "Ds-_XqJ7wDgi",
        "outputId": "530970c5-32b6-4e15-a7c6-540364c1d19b"
      },
      "execution_count": null,
      "outputs": [
        {
          "output_type": "display_data",
          "data": {
            "text/plain": [
              "<IPython.core.display.Javascript object>"
            ],
            "application/javascript": [
              "\n",
              "console.log(\"start\");\n",
              "\n",
              "setTimeout(() => console.log(\"Hello\"),0);\n",
              "\n",
              "console.log(\"end\")\n"
            ]
          },
          "metadata": {}
        }
      ]
    },
    {
      "cell_type": "markdown",
      "source": [
        "The above code example execute synchronously. In the `for loop` completing the code execution might take time, while executing this code JS will not do anything else. It finish the present line of code then go to the next line."
      ],
      "metadata": {
        "id": "KwR1j8rAhKnG"
      }
    },
    {
      "cell_type": "markdown",
      "source": [
        "## 3.Chaining Promises with setTimeout, modify the delay function to chain multiple promises so that three messages are logged in sequence with delays"
      ],
      "metadata": {
        "id": "3738tbcPjwwt"
      }
    },
    {
      "cell_type": "code",
      "source": [
        "%%javascript\n",
        "\n",
        "function delay(seconds) {\n",
        "  return new Promise((resolve) => {\n",
        "    setTimeout(resolve, seconds * 1000);\n",
        "  });\n",
        "}\n",
        "\n",
        "delay(1)\n",
        "  .then(() => {\n",
        "    console.log(\"waited 1 sec\");\n",
        "    return delay(2);\n",
        "  })\n",
        "  .then(() => {\n",
        "    console.log(\"waited 2 sec\");\n",
        "    return delay(3);\n",
        "  })\n",
        "  .then(() => console.log(\"waited 3 sec\"));"
      ],
      "metadata": {
        "id": "T-Kn3GCVjoq-"
      },
      "execution_count": null,
      "outputs": []
    },
    {
      "cell_type": "markdown",
      "source": [
        "## 4. What are the different states of a Promise, and how do they transition?\n",
        "\n",
        "=>\n",
        "\n",
        "In Javascript Promise is an object that is used as placeholder for the future result of an asynchronous operations. In promise there are three main states:\n",
        "* Pending\n",
        "* Fulfilled\n",
        "* Rejected\n",
        "\n",
        "**Pending:**\n",
        "This is the initial state of a promise, before the future value is available. Durring this time the asychronous task is still doing its work in the background, meaning it can be fulfilled or rejected.\n",
        "\n",
        "**Fullfiled:**\n",
        "A fulfilled promise, is promise that has successfully resulted in a value just as we expected. For example, when we use a promise to fetch data from an API, a fulfilled promise successfully got that data, and it's available to being used.\n",
        "\n",
        "**Rejected:**\n",
        "A rejected promise means that there has been an error durring the asynchronous task. In the example of fetching data from an API, an error would be, for example, when the user is offline, and can't connect to the API server.\n"
      ],
      "metadata": {
        "id": "VGhQA2AqJo4X"
      }
    },
    {
      "cell_type": "markdown",
      "source": [
        "## 5. How does the JavaScript event loop handle Promises differently from setTimeout?"
      ],
      "metadata": {
        "id": "zMAddgU-z7gX"
      }
    },
    {
      "cell_type": "markdown",
      "source": [
        "Javascript is **single-threaded** and sychronous by default. To handle asynchronous operations, Javascript runtime engine has two primary queues:\n",
        "1. **Callback queue:** This queue stores tasks that are scheduled by asynchronous operations like `setTimeout`, `setInterval` and user interactions. Tasks in this queue are executed after the call stack is empty\n",
        "\n",
        "2. **Microtask queue:** This queue holds tasks scheduled by promises and other microtasks. Microtasks have higher priority than tasks in the Callback Queue and are executed before the timer event."
      ],
      "metadata": {
        "id": "s1gPb85kXW09"
      }
    },
    {
      "cell_type": "code",
      "source": [
        "%%js\n",
        "console.log(\"Start\");\n",
        "\n",
        "setTimeout(() => {\n",
        "  console.log(\"timer finish\");\n",
        "}, 0);\n",
        "\n",
        "new Promise((res, rej) => {\n",
        "  for (let i = 0; i < 10000000000; i++) {\n",
        "    // do some task\n",
        "  }\n",
        "  res(\"promise done\");\n",
        "}).then((res) => console.log(res));\n",
        "\n",
        "console.log(\"end\");\n",
        "\n",
        "/* Ouput:\n",
        "Start\n",
        "end\n",
        "promise done\n",
        "timer finish\n",
        "*/\n"
      ],
      "metadata": {
        "id": "ny32-bHzIBVw"
      },
      "execution_count": null,
      "outputs": []
    },
    {
      "cell_type": "markdown",
      "source": [
        "If we see output of the above code example, then one question will arise that is, why `promise done` logged before `timer done`. `setTimeout` and `Promise` both are for performing asynchronous task, in the above code example `setTimeout` function received 0 second timer and it should call immediately, but it calls after the `promise done`. Why?\n",
        "\n",
        "To understand the logic behind lets break down the code example-\n",
        "\n",
        "Javascript will execute synchronous code first in the call stack. In this case two console.log `start` and `end` will execute first, then Javascript sees that there are two async operations `setTimeout` and `promise`. Javascript will handed over these two async operation to runtime engine. And runtime engine perform these async operations in the background. If async task is done, then its callback placed in the queue.\n",
        "\n",
        "In this case setTimeout will placed in the `Callback queue` and callback returned by promise will placed in the `Microtask queue`.\n",
        "\n",
        "Event loop constantly checks if the call stack empty or not, if its empty and no synchronous code is left, the event loop start taking callback from the queue. It will start taking callback from `Microtask queue` first and then `Callback queue`.\n",
        "\n",
        "That is the reason why `promise done` logs before `timer finish`.\n",
        "\n",
        "<img src=\"https://drive.google.com/uc?export=view&id=10EmCWphbAFOORcHXMO4atEEvRsmX_roD\" width=\"100%\"  alt=\"Asynchronous javascript\"/>\n",
        "\n"
      ],
      "metadata": {
        "id": "9kUVVgKDOAw1"
      }
    }
  ]
}