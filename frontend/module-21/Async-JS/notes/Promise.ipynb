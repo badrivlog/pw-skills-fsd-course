{
  "nbformat": 4,
  "nbformat_minor": 0,
  "metadata": {
    "colab": {
      "provenance": []
    },
    "kernelspec": {
      "name": "python3",
      "display_name": "Python 3"
    },
    "language_info": {
      "name": "python"
    }
  },
  "cells": [
    {
      "cell_type": "markdown",
      "source": [
        "#Promise Constructor\n",
        "\n",
        "## Topics covered\n",
        "\n",
        "\n",
        "\n",
        "1.   Introduction to promises.\n",
        "2.   Importances of Javascript promises.\n",
        "3. Understading promises.\n",
        "4. Promise lifecycle.\n",
        "5. Promise constructor.\n",
        "6. Promise methods.\n",
        "7. Consuming the promise values.\n",
        "8. Interview point.\n",
        "\n",
        "Promises are an important concept in modern Javascript programming. They allow us to handle asynchronous\n",
        "code and make it more efficient and responsive.\n",
        "\n",
        "`Javascript is single-threaded`, it can execute only one code statement at a time. Some pieces of code execute\n",
        "immediately and some take time. The operation of fetching data from the server is not instantaneous. In that\n",
        "case, the execution thread would be blocked, leading to a bad user experience due to slow loading. We can\n",
        "solve these problems through Promises.\n",
        "\n",
        "\n",
        "A promise is an object that represents a value that may not be available yet but will be available at some point\n",
        "in the future. Promises are a way of handling asynchronous code, which means code that runs in the\n",
        "background while another code is executing. With promises, we can write code that waits for the completion of\n",
        "an asynchronous task before moving on to the next task.\n",
        "\n",
        "## Importance of Javascript promises\n",
        "Before looking into the implementation of promises it is important to know the importance of promises.\n",
        "Here are some of the reasons why promises are important.\n",
        "\n",
        "* Promises are an **effective way to handle asynchronous code in Javascript.**\n",
        "With promises, we can write\n",
        "code that **waits for the completion of an asynchronous task before moving on to the next task.** This leads\n",
        "to more efficient and responsive code, as well as a better user experience.\n",
        "\n",
        "* In one of the previous lectures, we looked into callback hell, where multiple nested callbacks make code\n",
        "hard to read and debug. Promises provide a cleaner and more manageable way to handle asynchronous\n",
        "code than traditional callback functions.\n",
        "\n",
        "* Promises can be chained together to handle multiple asynchronous tasks in a more readable and\n",
        "manageable way. This can lead to more efficient and maintainable code, making it easier to debug and\n",
        "improve over time.\n",
        "\n",
        "* Promises come with an inbuilt error-handling mechanism, we can handle both expected and unexpected\n",
        "errors in a consistent way. This makes it easier to identify and debug errors in your code.\n",
        "\n",
        "* Promises are widely used. This means that developers can use promises in their code regardless of the\n",
        "libraries or frameworks they are using.\n",
        "<br>\n",
        "\n",
        "The most effective way to understand javascript promises is by relating them to a real-life promise.\n",
        "\n",
        "<img src=\"https://drive.google.com/uc?export=view&id=19UdYa4D5Uyyr8EudX62G92UyFHmWqXJ3\" width=\"400px\"  alt=\"module-09-assignment-task-04\"/>\n",
        "\n",
        "**If you take a promise from your friend that he will get you chocolate, then here are the possible conditions.**\n",
        "\n",
        "1. You are waiting for your friend to come. This means the promise is in a **PENDING** state.\n",
        "2. Your friend bought you chocolate. This means the promise is in a **FULFILLED** state.\n",
        "3. Due to any reason, your friend failed to get a chocolate, maybe the shop was closed. This means the\n",
        "promise goes to the **REJECTED** state.\n",
        "\n",
        "In the same way, if you are performing any asynchronous task that might get some resources, it is a promise. At\n",
        "first, the promise remains in the PENDING state because no response has been received. After some time, when\n",
        "the response is received, there are two possible cases:\n",
        "\n",
        "1. We got a response i.e., the promise goes to the **FULFILLED** state.\n",
        "2. An error occurred, and the promise was **REJECTED** without receiving any response.\n",
        "\n",
        "<img src=\"https://drive.google.com/uc?export=view&id=1Rht1whzS1aHT69mNAqcLI0spwM5plN3k\" width=\"400px\"  alt=\"module-09-assignment-task-04\"/>\n",
        "\n",
        "## Promise Lifecycle\n",
        "**The lifecycle of promises consists of 4 stages**\n",
        "\n",
        "1. Pending.\n",
        "2. Resolved.\n",
        "3. Rejected.\n",
        "4. Settled.\n",
        "\n",
        "* Once a promise is created, it enters the pending state. While a promise is in the pending state, the outcome\n",
        "of the asynchronous operation is still unknown. A promise remains pending until it is either resolved or\n",
        "rejected due to failure of the async operation.\n",
        "\n",
        "* The resolved state specifies that the asynchronous operation has been completed successfully and the\n",
        "promise has a resolved value.\n",
        "\n",
        "* The rejected state indicates that the asynchronous operation has failed and the promise has a rejected\n",
        "value.\n",
        "\n",
        "* A promise’s settled state refers to the final state of the promise after it has been fulfilled or rejected.\n",
        "\n",
        "<img src=\"https://drive.google.com/uc?export=view&id=1YE8RdmwZRBYnGtsFH8A14GtWNhxIrCRG\" width=\"400px\"  alt=\"module-09-assignment-task-04\"/>\n",
        "\n",
        "## Promise constructor\n",
        "A promise constructor is used to\n",
        "create a new Promise.\n",
        "\n",
        "\n",
        "\n"
      ],
      "metadata": {
        "id": "TQnTon11Qcth"
      }
    },
    {
      "cell_type": "code",
      "execution_count": null,
      "metadata": {
        "id": "7rFtCQd2QV8v"
      },
      "outputs": [],
      "source": [
        "%%javascript\n",
        "new Promise(function(resolve, reject) {\n",
        "  // do something\n",
        "});"
      ]
    },
    {
      "cell_type": "markdown",
      "source": [
        "The Promise constructor takes a function as its argument, which in turn takes two parameters, resolve and reject. Thes parameters are functions that are used to set the state of the Promise.\n",
        "\n",
        "Let's look at an example demonstrating the states of Promise using the constructor.\n",
        "\n",
        "**Math.random()** is a build-in function in JavaScript that generates a random decimal number between 0 (inclusive) and 1 (exclusive). The function returns a random number each time it is called, which can be used for a variety of purposes.\n",
        "\n",
        "Now, let’s write a promise which enters the resolved state if the random number generated is greater than 0.5\n",
        "and the promise gets rejected if the random number generated is lesser than 0.5.\n",
        "\n",
        "Let’s write this inside an HTML document so we could visualize the states of promise more clearly."
      ],
      "metadata": {
        "id": "yYQl2uzlfOVB"
      }
    },
    {
      "cell_type": "code",
      "source": [
        "%%js\n",
        "const newPromise = new Promise((resolve, reject) => {\n",
        "  const randomNumber = Math.random();\n",
        "  if (randomNumber > 0.5) {\n",
        "    resolve(\"The Promise is resolved. The number is: \" + randomNumber );\n",
        "  } else {\n",
        "    reject(\"The Promise is rejected. The number is: \" + randomNumber);\n",
        "  }\n",
        "});\n",
        "\n",
        "console.log(newPromise);"
      ],
      "metadata": {
        "colab": {
          "base_uri": "https://localhost:8080/",
          "height": 17
        },
        "id": "ZzR0pGAKfqGX",
        "outputId": "6471397c-6c50-47a1-f324-5af1b7188a01"
      },
      "execution_count": null,
      "outputs": [
        {
          "output_type": "display_data",
          "data": {
            "text/plain": [
              "<IPython.core.display.Javascript object>"
            ],
            "application/javascript": [
              "const newPromise = new Promise((resolve, reject) => {\n",
              "  const randomNumber = Math.random();\n",
              "  if (randomNumber > 0.5) {\n",
              "    resolve(\"The Promise is resolved. The number is: \" + randomNumber );\n",
              "  } else {\n",
              "    reject(\"The Promise is rejected. The number is: \" + randomNumber);\n",
              "  }\n",
              "});\n",
              "\n",
              "console.log(newPromise);\n"
            ]
          },
          "metadata": {}
        }
      ]
    },
    {
      "cell_type": "markdown",
      "source": [
        "**Output:**\n",
        "\n",
        "* If the random number generated is greater than 0.5 the promise would be resolved.\n",
        "\n",
        "<img src=\"https://drive.google.com/uc?export=view&id=1B4LWrHQ1AR760sHdIaT7ifa3NVjukUil\" width=\"400px\"  alt=\"module-09-assignment-task-04\"/>\n",
        "\n",
        "* If the random number generated is greater than 0.5 the promise would be rejected.\n",
        "\n",
        "<img src=\"https://drive.google.com/uc?export=view&id=1SaVIQJJDFa78PGt4TH6fDGjgmMFUbhZY\" width=\"400px\"  alt=\"module-09-assignment-task-04\"/>\n",
        "\n",
        "## Consuming the Promise Values\n",
        "Promises will for sure reach one state or the other of the promise lifecycle. Consuming a promise simply means\n",
        "taking the value obtained from the promise (the resolved or rejected value) to process another operation.\n",
        "\n",
        "We have three methods to consume the promise values,\n",
        "\n",
        "1. .then().\n",
        "2. .catch().\n",
        "3. finally().\n",
        "\n",
        "####**.then()**\n",
        "\n",
        "The then method allows you to specify a function that should be called when a Promise is fulfilled."
      ],
      "metadata": {
        "id": "Ml4Z1K6NoFgj"
      }
    },
    {
      "cell_type": "code",
      "source": [
        "%%javascript\n",
        "\n",
        "let newPromise = new Promise((resolve, reject) => {\n",
        "  const randomNumber = Math.random();\n",
        "  console.log(randomNumber);\n",
        "  if (randomNumber > 0.5) {\n",
        "    resolve(\"The Promise is resolved. The number is greater than 0.5: \" + randomNumber);\n",
        "  } else {\n",
        "    reject(\"The Promise is rejected. The number is less than 0.5: \" + randomNumber);\n",
        "  }\n",
        "});\n",
        "\n",
        "newPromise.then((value) => {\n",
        "  console.log(value);\n",
        "});\n"
      ],
      "metadata": {
        "colab": {
          "base_uri": "https://localhost:8080/",
          "height": 17
        },
        "id": "6a9yPmvApz5u",
        "outputId": "55af53ce-215c-4251-c52e-816f50eeb233"
      },
      "execution_count": null,
      "outputs": [
        {
          "output_type": "display_data",
          "data": {
            "text/plain": [
              "<IPython.core.display.Javascript object>"
            ],
            "application/javascript": [
              "\n",
              "let newPromise = new Promise((resolve, reject) => {\n",
              "  const randomNumber = Math.random();\n",
              "  console.log(randomNumber);\n",
              "  if (randomNumber > 0.5) {\n",
              "    resolve(\"The Promise is resolved. The number is greater than 0.5: \" + randomNumber);\n",
              "  } else {\n",
              "    reject(\"The Promise is rejected. The number is less than 0.5: \" + randomNumber);\n",
              "  }\n",
              "});\n",
              "\n",
              "newPromise.then((value) => {\n",
              "  console.log(value);\n",
              "});\n"
            ]
          },
          "metadata": {}
        }
      ]
    },
    {
      "cell_type": "markdown",
      "source": [
        "### **.catch()**\n",
        "\n",
        "\n",
        "To handle the rejected or unsuccessful state, we have the .catch() method. It allows us to specify what should\n",
        "happen when a promise is rejected so that we can handle the error appropriately in our code.\n"
      ],
      "metadata": {
        "id": "jj876yy78osH"
      }
    },
    {
      "cell_type": "code",
      "source": [
        "%%js\n",
        "\n",
        "let newPromise = new Promise((resolve, reject) => {\n",
        "  const randomNumber = Math.random();\n",
        "  console.log(randomNumber);\n",
        "  if (randomNumber > 0.5) {\n",
        "    resolve(\"The Promise is resolved. The number is greater than 0.5: \" + randomNumber);\n",
        "  } else {\n",
        "    reject(\"The Promise is rejected. The number is less than 0.5: \" + randomNumber);\n",
        "  }\n",
        "});\n",
        "\n",
        "newPromise.then((value) => {\n",
        "  console.log(value);\n",
        "})\n",
        ".catch((error) => console.log(error));"
      ],
      "metadata": {
        "colab": {
          "base_uri": "https://localhost:8080/",
          "height": 17
        },
        "id": "FZfgMMdv82Zc",
        "outputId": "4536775d-7d6d-45f4-cfc4-482eda060174"
      },
      "execution_count": null,
      "outputs": [
        {
          "output_type": "display_data",
          "data": {
            "text/plain": [
              "<IPython.core.display.Javascript object>"
            ],
            "application/javascript": [
              "\n",
              "let newPromise = new Promise((resolve, reject) => {\n",
              "  const randomNumber = Math.random();\n",
              "  console.log(randomNumber);\n",
              "  if (randomNumber > 0.5) {\n",
              "    resolve(\"The Promise is resolved. The number is greater than 0.5: \" + randomNumber);\n",
              "  } else {\n",
              "    reject(\"The Promise is rejected. The number is less than 0.5: \" + randomNumber);\n",
              "  }\n",
              "});\n",
              "\n",
              "newPromise.then((value) => {\n",
              "  console.log(value);\n",
              "})\n",
              ".catch((error) => console.log(error));\n"
            ]
          },
          "metadata": {}
        }
      ]
    },
    {
      "cell_type": "markdown",
      "source": [
        "### **.finally()**\n",
        "\n",
        "The **finally()** method is used to specify a function that is executed when the promise is settled (i.e., either resolved or rejected)."
      ],
      "metadata": {
        "id": "cLNn0oFy9h8p"
      }
    },
    {
      "cell_type": "code",
      "source": [
        "%%javascript\n",
        "\n",
        "let newPromise = new Promise((resolve, reject) => {\n",
        "  let randomNumber = Math.random();\n",
        "  console.log(randomNumber);\n",
        "\n",
        "  if(randomNumber > 0.5) {\n",
        "    resolve(\"The Promise is resolved/ The number is greater than 0.5\")\n",
        "  }else {\n",
        "    reject(\"The Promise is rejected. The number is lesser than 0.5\")\n",
        "  }\n",
        "});\n",
        "\n",
        "newPromise\n",
        ".then((result) => console.log(result))\n",
        ".catch(error => console.log(error))\n",
        ".finally(() => console.log(\"The Promis is settled\"))"
      ],
      "metadata": {
        "id": "CpV1TPwH98eV"
      },
      "execution_count": null,
      "outputs": []
    },
    {
      "cell_type": "markdown",
      "source": [
        "## Promise Methods\n",
        "\n",
        "### **promise.all()**\n",
        "The **Promise.all** method is used when you have multiple promises and you want to wait for all of them to\n",
        "resolve before performing some action. It takes an iterable of promises as input, such as an array, and returns a\n",
        "new promise that resolves when all of the input promises have resolved.\n",
        "\n",
        "Here's a step-by-step explanation of how **Promise.all** works:\n",
        "\n",
        "First, you need to create an array of promises that you want to wait for. Each promise in the array can represent\n",
        "an asynchronous operation, such as an API call or data fetch."
      ],
      "metadata": {
        "id": "BrdaANoM_0ve"
      }
    },
    {
      "cell_type": "code",
      "source": [
        "%%js\n",
        "\n",
        "const promise1 = fetch(\"https://fakestoreapi.com/products/1\");\n",
        "const promise2 = fetch(\"https://fakestoreapi.com/products/categories\");\n",
        "const promise3 = fetch(\"https://fakestoreapi.com/products/jewelery\");\n",
        "\n",
        "const promises = [promise1, promise2, promise3];\n",
        "\n",
        "Promise.all(promises).then(results => {\n",
        "  // code to execute when a;; promises are resolved\n",
        "  console.log(results);\n",
        "}).catch(error => {\n",
        "  // code to execute when a promise is rejected\n",
        "  console.log(error);\n",
        "});\n",
        "\n"
      ],
      "metadata": {
        "colab": {
          "base_uri": "https://localhost:8080/",
          "height": 17
        },
        "id": "B1EoEDjKBHos",
        "outputId": "5654d3e9-8f4e-4fe4-c0d2-0c28df42fe5d"
      },
      "execution_count": null,
      "outputs": [
        {
          "output_type": "display_data",
          "data": {
            "text/plain": [
              "<IPython.core.display.Javascript object>"
            ],
            "application/javascript": [
              "\n",
              "const promise1 = fetch(\"https://fakestoreapi.com/products/1\");\n",
              "const promise2 = fetch(\"https://fakestoreapi.com/products/categories\");\n",
              "const promise3 = fetch(\"https://fakestoreapi.com/products/jewelery\");\n",
              "\n",
              "const promises = [promise1, promise2, promise3];\n",
              "\n",
              "Promise.all(promises).then(results => {\n",
              "  // code to execute when a;; promises are resolved\n",
              "  console.log(results);\n",
              "}).catch(error => {\n",
              "  // code to execute when a promise is rejected\n",
              "  console.log(error);\n",
              "});\n",
              "\n"
            ]
          },
          "metadata": {}
        }
      ]
    },
    {
      "cell_type": "markdown",
      "source": [
        "### **promise.any()**\n",
        "**Promise.any()** is a method that takes an iterable (such as an array) of promises and returns a new promise.\n",
        "This new promise is fulfilled with the value of the first promise in the iterable that successfully completes\n",
        "(fulfills)."
      ],
      "metadata": {
        "id": "HXetSNQ1WYJw"
      }
    },
    {
      "cell_type": "code",
      "source": [
        "%%javascript\n",
        "\n",
        "const promises = [\n",
        "    new Promise((resolve, reject) => setTimeout(() => reject(\"Error, Promise 1\"), 1000)),\n",
        "    new Promise((resolve, reject) => setTimeout(() => resolve(\"Success, Promise 2\"), 2000)),\n",
        "    new Promise((resolve, reject) => setTimeout(() => resolve(\"Success, Promise 3\"), 3000)),\n",
        "];\n",
        "\n",
        "const anyPromise = Promise.any(promises);\n",
        "\n",
        " anyPromise.then(result => {\n",
        "    console.log(result);\n",
        "}).catch(error => {\n",
        "    console.log(error);\n",
        "});\n",
        "\n",
        "// Expected output: Success, Promise 2"
      ],
      "metadata": {
        "colab": {
          "base_uri": "https://localhost:8080/",
          "height": 17
        },
        "id": "6C9eol9DWuYo",
        "outputId": "b4c7b97f-3f29-4077-b24e-5f4c1f0b8f4f"
      },
      "execution_count": null,
      "outputs": [
        {
          "output_type": "display_data",
          "data": {
            "text/plain": [
              "<IPython.core.display.Javascript object>"
            ],
            "application/javascript": [
              "\n",
              "const promises = [\n",
              "    new Promise((resolve, reject) => setTimeout(() => reject(\"Error, Promise 1\"), 1000)),\n",
              "    new Promise((resolve, reject) => setTimeout(() => resolve(\"Success, Promise 2\"), 2000)),\n",
              "    new Promise((resolve, reject) => setTimeout(() => resolve(\"Success, Promise 3\"), 3000)),\n",
              "];\n",
              "\n",
              "const anyPromise = Promise.any(promises);\n",
              "\n",
              " anyPromise.then(result => {\n",
              "    console.log(result);\n",
              "}).catch(error => {\n",
              "    console.log(error);\n",
              "});\n"
            ]
          },
          "metadata": {}
        }
      ]
    },
    {
      "cell_type": "markdown",
      "source": [
        "### **promise.resolve**\n",
        "Promise.resolve() is a method that creates a promise that is already resolved. This means that the promise will\n",
        "not be pending, and it will not be rejected. Instead, it will immediately resolve with the value that is passed to\n",
        "Promise.resolve().\n",
        "\n",
        "For example, the following code creates a promise that is resolved with the value \"Hello, world!\":"
      ],
      "metadata": {
        "id": "oRX_BuJ_RkVK"
      }
    },
    {
      "cell_type": "code",
      "source": [
        "%%javascript\n",
        "\n",
        "const promise = Promise.resolve(\"Hello world!\");\n",
        "promise.then(result => console.log(result));\n",
        "// output: Hello world!"
      ],
      "metadata": {
        "id": "0yl9ipEPR2iO"
      },
      "execution_count": null,
      "outputs": []
    },
    {
      "cell_type": "markdown",
      "source": [
        "When the promise is resolved, the **then()** method will be called with the value of the promise. In this case, the\n",
        "value of the promise is \"Hello, world!\", so the **then()** method will log this value to the console.\n",
        "\n",
        "### **promise.reject**\n",
        "Promise.reject() is a method that creates a promise that is already rejected. This means that the promise will\n",
        "not be pending, and it will not be resolved. Instead, it will immediately reject with the reason that is passed to\n",
        "Promise.reject().\n",
        "\n",
        "For example, the following code creates a promise that is rejected with the reason \"Error\""
      ],
      "metadata": {
        "id": "sazuDZoaSCww"
      }
    },
    {
      "cell_type": "code",
      "source": [
        "%%javascript\n",
        "const promise = Promise.reject(\"Error\");\n",
        "promise.catch(error => console.log(error));\n",
        "// output: Error"
      ],
      "metadata": {
        "id": "LzIo-lSqShfp"
      },
      "execution_count": null,
      "outputs": []
    },
    {
      "cell_type": "markdown",
      "source": [
        "## Interview Point\n",
        "\n",
        "Q1.You have to create two promises, promise1, and promise2, and both will give you a number when they are\n",
        "ready or resolved. Your task is to create a new promise. This new promise should calculate the total sum of\n",
        "the two numbers from promise1 and promise2."
      ],
      "metadata": {
        "id": "dB1lPv40vOBd"
      }
    },
    {
      "cell_type": "code",
      "source": [
        "%%javascript\n",
        "const p1 = Promise.resolve(2);\n",
        "const p2 = Promise.resolve(54);\n",
        "\n",
        "Promise.all([p1, p2])\n",
        "  .then((res) => {\n",
        "    return new Promise(function (resolve, reject) {\n",
        "      const [firstValue, secondValue] = res;\n",
        "      resolve(firstValue + secondValue);\n",
        "    });\n",
        "  })\n",
        "  .then((val) => console.log(val))\n",
        "  .catch((err) => console.error(err));"
      ],
      "metadata": {
        "colab": {
          "base_uri": "https://localhost:8080/",
          "height": 17
        },
        "id": "Qc3khswhvoS_",
        "outputId": "9e66ac74-d5e9-4077-8709-977bd3203dd3"
      },
      "execution_count": null,
      "outputs": [
        {
          "output_type": "display_data",
          "data": {
            "text/plain": [
              "<IPython.core.display.Javascript object>"
            ],
            "application/javascript": [
              "const p1 = Promise.resolve(2);\n",
              "const p2 = Promise.resolve(54);\n",
              "\n",
              "Promise.all([p1, p2])\n",
              "  .then((res) => {\n",
              "    return new Promise(function (resolve, reject) {\n",
              "      const [firstValue, secondValue] = res;\n",
              "      resolve(firstValue + secondValue);\n",
              "    });\n",
              "  })\n",
              "  .then((val) => console.log(val))\n",
              "  .catch((err) => console.error(err));\n"
            ]
          },
          "metadata": {}
        }
      ]
    },
    {
      "cell_type": "markdown",
      "source": [
        "Q2. Let’s say you have a special task to do, but sometimes it might not work on the first try. Imagine you\n",
        "have a helper, let's call it \"retry.\" This helper takes two things:\n",
        "\n",
        "* A special task that you want to do (which is like a promise)\n",
        "* Max number of times you want to try this task.\n",
        "\n",
        "So, you tell the helper to try this task. If it doesn't work, the helper will keep trying, but only up to the number\n",
        "of times you told it. Can you create this helpful function called \"retry\"?"
      ],
      "metadata": {
        "id": "bED6bO_vvzZq"
      }
    },
    {
      "cell_type": "code",
      "source": [
        "%%javascript\n",
        "// Function to retry a promise-returning function with a maximum number of attemps\n",
        "function retry(promiseFn, maxAttempts) {\n",
        "  //Return a new promise that will resolve or reject based on the retry logic\n",
        "  return new Promise((resolve, reject) => {\n",
        "    // counter to check the number of attemps\n",
        "  let attempts = 0\n",
        "  async function attempt() {\n",
        "    try {\n",
        "      // Attemp to ecxecute the promise-returning function\n",
        "      const result = await promiseFn();\n",
        "      // Resolve the promise if successful\n",
        "      resolve(result);\n",
        "    }catch(err) {\n",
        "      // Increase the number of attemps\n",
        "      attempts++\n",
        "\n",
        "      // If attemps are within the limit, retry\n",
        "      if(attempts < maxAttempts) {\n",
        "        await attempt() // Recursive call for the next attempt\n",
        "      }else {\n",
        "        // Reject the promise if max attempts are reached\n",
        "        reject(err);\n",
        "      }\n",
        "    }\n",
        "  }\n",
        "  // Start the initial attempt\n",
        "  attempt();\n",
        "  });\n",
        "}\n",
        "\n",
        "//example usage:\n",
        "// retrying a function that always rejects for demonstration purpose\n",
        "const exampleRetryFunction = retry(async() => {\n",
        "  console.log(\"Attempting...\");\n",
        "  throw new Error(\"Failed\");\n",
        "}, 5);\n",
        "exampleRetryFunction.then(result => console.log(result))\n",
        "  .catch(error => console.error(error));"
      ],
      "metadata": {
        "colab": {
          "base_uri": "https://localhost:8080/",
          "height": 17
        },
        "id": "ESddQnwuwVfT",
        "outputId": "79466fca-8850-4d7b-ad31-d5c77fc5df58"
      },
      "execution_count": null,
      "outputs": [
        {
          "output_type": "display_data",
          "data": {
            "text/plain": [
              "<IPython.core.display.Javascript object>"
            ],
            "application/javascript": [
              "// Function to retry a promise-returning function with a maximum number of attemps\n",
              "function retry(promiseFn, maxAttempts) {\n",
              "  //Return a new promise that will resolve or reject based on the retry logic\n",
              "  return new Promise((resolve, reject) => {\n",
              "    // counter to check the number of attemps\n",
              "  let attempts = 0\n",
              "  async function attempt() {\n",
              "    try {\n",
              "      // Attemp to ecxecute the promise-returning function\n",
              "      const result = await promiseFn();\n",
              "      // Resolve the promise if successful\n",
              "      resolve(result);\n",
              "    }catch(err) {\n",
              "      // Increase the number of attemps\n",
              "      attempts++\n",
              "      \n",
              "      // If attemps are within the limit, retry\n",
              "      if(attempts < maxAttempts) {\n",
              "        await attempt() // Recursive call for the next attempt\n",
              "      }else {\n",
              "        // Reject the promise if max attempts are reached\n",
              "        reject(err);\n",
              "      }\n",
              "    }\n",
              "  }\n",
              "  // Start the initial attempt\n",
              "  attempt();\n",
              "  });\n",
              "}\n",
              "\n",
              "//example usage:\n",
              "// retrying a function that always rejects for demonstration purpose\n",
              "const exampleRetryFunction = retry(async() => {\n",
              "  console.log(\"Attempting...\");\n",
              "  throw new Error(\"Failed\");\n",
              "}, 5);\n",
              "exampleRetryFunction.then(result => console.log(result))\n",
              "  .catch(error => console.error(error));\n"
            ]
          },
          "metadata": {}
        }
      ]
    }
  ]
}