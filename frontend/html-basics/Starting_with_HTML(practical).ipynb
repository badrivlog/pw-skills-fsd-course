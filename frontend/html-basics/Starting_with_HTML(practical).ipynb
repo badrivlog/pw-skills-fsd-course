{
  "nbformat": 4,
  "nbformat_minor": 0,
  "metadata": {
    "colab": {
      "provenance": []
    },
    "kernelspec": {
      "name": "python3",
      "display_name": "Python 3"
    },
    "language_info": {
      "name": "python"
    }
  },
  "cells": [
    {
      "cell_type": "code",
      "execution_count": null,
      "metadata": {
        "id": "rFD434Oql5xg"
      },
      "outputs": [],
      "source": []
    },
    {
      "cell_type": "markdown",
      "source": [
        "# Starting with HTML"
      ],
      "metadata": {
        "id": "SyD5EWm8mB_6"
      }
    },
    {
      "cell_type": "markdown",
      "source": [
        "## 1. Write a simple program in HTML  that displays the heading \"HTML defines the content and structure of your website” on the web browser?"
      ],
      "metadata": {
        "id": "pLvnMQtymMwc"
      }
    },
    {
      "cell_type": "code",
      "source": [
        "# index.html (github file link- https://github.com/badrivlog/pw-skills-fsd-course/blob/main/frontend/html-basics/qn-1/index.html)\n",
        "\"\"\"\n",
        "<!DOCTYPE html>\n",
        "<html lang=\"en\">\n",
        "  <head>\n",
        "    <meta charset=\"UTF-8\" />\n",
        "    <meta name=\"viewport\" content=\"width=device-width, initial-scale=1.0\" />\n",
        "    <title>display heading text on web browser</title>\n",
        "  </head>\n",
        "  <body>\n",
        "    <h1>HTML defines the content and structure of your website</h1>\n",
        "  </body>\n",
        "</html>\n",
        "\n",
        "\"\"\""
      ],
      "metadata": {
        "id": "Dh7LS7Tcmen7"
      },
      "execution_count": null,
      "outputs": []
    },
    {
      "cell_type": "markdown",
      "source": [
        "## 2. Explain the purpose of comments in HTML and provide an example of how to use comments in an HTML document?"
      ],
      "metadata": {
        "id": "InbiU8DGqPCI"
      }
    },
    {
      "cell_type": "markdown",
      "source": [
        "The purpose of comments in HTML is to provide explanatory notes within the code for developers, or to temporarily disable parts of the code without deleting it. Comments are not rendered by the browser, meaning they do not affect the appearance or functionality of the webpage. They are used for documentation, debugging, or to leave helpful messages for others who might be working with the code.\n",
        "\n",
        "In HTML, comments are enclosed within `<!--` and `-->`. Everything between these symbols will be ignored by the browser."
      ],
      "metadata": {
        "id": "_9_aGGXHrPH9"
      }
    },
    {
      "cell_type": "markdown",
      "source": [
        "### Example of using comments in HTML"
      ],
      "metadata": {
        "id": "Us-4XYghryrt"
      }
    },
    {
      "cell_type": "code",
      "source": [
        "# index.html (github file link- https://github.com/badrivlog/pw-skills-fsd-course/blob/main/frontend/html-basics/qn-2/index.html)\n",
        "\"\"\"\n",
        "<!DOCTYPE html>\n",
        "<html lang=\"en\">\n",
        "  <head>\n",
        "    <meta charset=\"UTF-8\" />\n",
        "    <meta name=\"viewport\" content=\"width=device-width, initial-scale=1.0\" />\n",
        "    <title>HTML comments example</title>\n",
        "  </head>\n",
        "  <body>\n",
        "    <h1>Welcome to My Web Page</h1>\n",
        "\n",
        "    <!-- This is a comment. It won't appear on the webpage. -->\n",
        "\n",
        "    <p>This paragraph is visible on the webpage.</p>\n",
        "\n",
        "    <!--\n",
        "        This is multiline comments\n",
        "        The following code is commented out and won't display.\n",
        "\n",
        "        <p>This paragraph is hidden from the user.</p>\n",
        "    -->\n",
        "  </body>\n",
        "</html>\n",
        "\n",
        "\"\"\""
      ],
      "metadata": {
        "id": "cP0t8ZqFqapm"
      },
      "execution_count": null,
      "outputs": []
    },
    {
      "cell_type": "markdown",
      "source": [
        "## 3. Write an HTML program that includes a heading, a paragraph of text, a horizontal line, and a line break. Arrange these elements to create a simple web page layout?"
      ],
      "metadata": {
        "id": "MRcDpIX8r9Cw"
      }
    },
    {
      "cell_type": "code",
      "source": [
        "# index.html (github file link- https://github.com/badrivlog/pw-skills-fsd-course/blob/main/frontend/html-basics/qn-3/index.html)\n",
        "\"\"\"\n",
        "<!DOCTYPE html>\n",
        "<html lang=\"en\">\n",
        "  <head>\n",
        "    <meta charset=\"UTF-8\" />\n",
        "    <meta name=\"viewport\" content=\"width=device-width, initial-scale=1.0\" />\n",
        "    <title>Simple Web Page Layout</title>\n",
        "  </head>\n",
        "  <body>\n",
        "    <!-- Heading -->\n",
        "    <h1>Welcome to My Simple Web Page</h1>\n",
        "\n",
        "    <!-- Paragraph of text -->\n",
        "    <p>\n",
        "      This is a simple web page that includes a heading, a paragraph, a\n",
        "      horizontal line, and a line break.\n",
        "    </p>\n",
        "\n",
        "    <!-- Horizontal Line -->\n",
        "    <hr />\n",
        "\n",
        "    <!-- Line break -->\n",
        "    <p>Here is a new paragraph after the line break.<br />Enjoy browsing!</p>\n",
        "  </body>\n",
        "</html>\n",
        "\n",
        "\"\"\""
      ],
      "metadata": {
        "id": "a3hjhwNFsRz6"
      },
      "execution_count": null,
      "outputs": []
    }
  ]
}