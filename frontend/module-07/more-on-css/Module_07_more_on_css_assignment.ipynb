{
  "nbformat": 4,
  "nbformat_minor": 0,
  "metadata": {
    "colab": {
      "provenance": []
    },
    "kernelspec": {
      "name": "python3",
      "display_name": "Python 3"
    },
    "language_info": {
      "name": "python"
    }
  },
  "cells": [
    {
      "cell_type": "markdown",
      "source": [
        "# Assignment solutions of Module-07 More on CSS"
      ],
      "metadata": {
        "id": "OuASq6yDKyrF"
      }
    },
    {
      "cell_type": "markdown",
      "source": [
        "## 1. Create a navigation bar similar to the below-mentioned image. The navigation bar must contain 5 navigation links that are properly placed within the navigation bar using the CSS box model. The navigation items must change their text color on hover."
      ],
      "metadata": {
        "id": "VJ0y1v8ALaFe"
      }
    },
    {
      "cell_type": "markdown",
      "source": [
        "To display list of links i could use semantic html `<ul>` and `<li>`. but here goal is placed links properly using CSS box model."
      ],
      "metadata": {
        "id": "0do1lAz_MymD"
      }
    },
    {
      "cell_type": "code",
      "source": [
        "# index.html (github file link- https://github.com/badrivlog/pw-skills-fsd-course/blob/main/frontend/module-07/more-on-css/qn-1/index.html)\n",
        "\"\"\"\n",
        "<!DOCTYPE html>\n",
        "<html lang=\"en\">\n",
        "  <head>\n",
        "    <meta charset=\"UTF-8\" />\n",
        "    <meta name=\"viewport\" content=\"width=device-width, initial-scale=1.0\" />\n",
        "    <link href=\"style.css\" rel=\"stylesheet\" />\n",
        "    <title>Navigaton bar</title>\n",
        "  </head>\n",
        "  <body>\n",
        "    <nav class=\"nav-container\">\n",
        "      <a class=\"nav-item\" href=\"#\">Home</a>\n",
        "      <a class=\"nav-item\" href=\"#\">About Us</a>\n",
        "      <a class=\"nav-item\" href=\"#\">Contact</a>\n",
        "      <a class=\"nav-item\" href=\"#\">Blog</a>\n",
        "      <a class=\"nav-item\" href=\"#\">Login</a>\n",
        "    </nav>\n",
        "  </body>\n",
        "</html>\n",
        "\"\"\"\n",
        "\n",
        "# style.css (github file link-https://github.com/badrivlog/pw-skills-fsd-course/blob/main/frontend/module-07/more-on-css/qn-1/style.css)\n",
        "\"\"\"\n",
        "body {\n",
        "  margin: 0;\n",
        "  padding: 0;\n",
        "}\n",
        "\n",
        ".nav-container {\n",
        "  background-color: #339af0;\n",
        "  padding: 36px 44px;\n",
        "}\n",
        "\n",
        ".nav-item:link {\n",
        "  margin-right: 50px;\n",
        "  color: white;\n",
        "}\n",
        ".nav-item:hover {\n",
        "  color: green;\n",
        "}\n",
        "\"\"\""
      ],
      "metadata": {
        "id": "zKXg7cEQLo9V"
      },
      "execution_count": null,
      "outputs": []
    },
    {
      "cell_type": "markdown",
      "source": [
        "## 2. Create a div centered with an image and paragraph similar to the image mentioned below."
      ],
      "metadata": {
        "id": "djAYIMWzOj8A"
      }
    },
    {
      "cell_type": "code",
      "source": [
        "# card.html (github file link- https://github.com/badrivlog/pw-skills-fsd-course/blob/main/frontend/module-07/more-on-css/qn-2/card.html)\n",
        "\"\"\"\n",
        "<!DOCTYPE html>\n",
        "<html lang=\"en\">\n",
        "  <head>\n",
        "    <meta charset=\"UTF-8\" />\n",
        "    <meta name=\"viewport\" content=\"width=device-width, initial-scale=1.0\" />\n",
        "    <link rel=\"stylesheet\" href=\"card.css\" />\n",
        "    <title>Card</title>\n",
        "  </head>\n",
        "  <body>\n",
        "    <div class=\"card\">\n",
        "      <img\n",
        "        class=\"card-img\"\n",
        "        src=\"https://s3.ap-south-1.amazonaws.com/cdn.pwskills.com/assets/uploads/course-thumbnail/a53e2c67-35d4-46f8-8fc9-0d6327835a81.jpeg\"\n",
        "        alt=\"PW Skills full stack web development course image\"\n",
        "      />\n",
        "      <p class=\"card-desc\">\n",
        "        <strong>Course Name:</strong> PW Skills full stack web development\n",
        "      </p>\n",
        "    </div>\n",
        "  </body>\n",
        "</html>\n",
        "\"\"\"\n",
        "\n",
        "# card.css (github file link- https://github.com/badrivlog/pw-skills-fsd-course/blob/main/frontend/module-07/more-on-css/qn-2/card.css)\n",
        "\"\"\"\n",
        ".card {\n",
        "  width: 270px;\n",
        "  padding: 10px;\n",
        "  margin: 0 auto;\n",
        "  background-color: #fcc419;\n",
        "  border-radius: 20px;\n",
        "}\n",
        ".card-img {\n",
        "  width: 100%;\n",
        "  border-radius: 20px;\n",
        "}\n",
        "\"\"\""
      ],
      "metadata": {
        "id": "CJRjEnC8OxvC"
      },
      "execution_count": null,
      "outputs": []
    },
    {
      "cell_type": "markdown",
      "source": [
        "## 3. Create a navigation bar similar to question 1. For each navigation item, use a different border style."
      ],
      "metadata": {
        "id": "NZ2tvfZOPYp9"
      }
    },
    {
      "cell_type": "code",
      "source": [
        "# index.html (github file link- https://github.com/badrivlog/pw-skills-fsd-course/blob/main/frontend/module-07/more-on-css/qn-3/index.html)\n",
        "\"\"\"\n",
        "<!DOCTYPE html>\n",
        "<html lang=\"en\">\n",
        "  <head>\n",
        "    <meta charset=\"UTF-8\" />\n",
        "    <meta name=\"viewport\" content=\"width=device-width, initial-scale=1.0\" />\n",
        "    <link href=\"style.css\" rel=\"stylesheet\" />\n",
        "    <title>Navigaton links with defferent border</title>\n",
        "  </head>\n",
        "  <body>\n",
        "    <nav class=\"nav-container\">\n",
        "      <a class=\"nav-item btn-home\" href=\"#\">Home</a>\n",
        "      <a class=\"nav-item btn-about\" href=\"#\">About Us</a>\n",
        "      <a class=\"nav-item btn-contact\" href=\"#\">Contact</a>\n",
        "      <a class=\"nav-item btn-blog\" href=\"#\">Blog</a>\n",
        "      <a class=\"nav-item btn-login\" href=\"#\">Login</a>\n",
        "    </nav>\n",
        "  </body>\n",
        "</html>\n",
        "\"\"\"\n",
        "\n",
        "# style.css (github file link- https://github.com/badrivlog/pw-skills-fsd-course/blob/main/frontend/module-07/more-on-css/qn-3/style.css)\n",
        "\"\"\"\n",
        ".nav-container {\n",
        "  background-color: #339af0;\n",
        "  padding: 36px 44px;\n",
        "}\n",
        ".nav-item:link {\n",
        "  margin-right: 50px;\n",
        "  color: white;\n",
        "  padding: 5px;\n",
        "}\n",
        ".nav-item:hover {\n",
        "  color: green;\n",
        "}\n",
        ".btn-home {\n",
        "  border: 2px solid black;\n",
        "}\n",
        ".btn-about {\n",
        "  border: 2px dashed blue;\n",
        "}\n",
        ".btn-contact {\n",
        "  border: 2px dotted green;\n",
        "}\n",
        ".btn-blog {\n",
        "  border: 2px double yellow;\n",
        "}\n",
        ".btn-login {\n",
        "  border: 2px ridge red;\n",
        "}\n",
        "\"\"\""
      ],
      "metadata": {
        "id": "gy0ExK0NPkdN"
      },
      "execution_count": null,
      "outputs": []
    },
    {
      "cell_type": "markdown",
      "source": [
        "## 4. Create a simple webpage with an image and make the image circular using border-radius."
      ],
      "metadata": {
        "id": "_gYQqrpFQj-D"
      }
    },
    {
      "cell_type": "markdown",
      "source": [
        "To utilize different approach, here used internal CSS to style the page"
      ],
      "metadata": {
        "id": "vpP9hBztRNsV"
      }
    },
    {
      "cell_type": "code",
      "source": [
        "# index.html (github file link- https://github.com/badrivlog/pw-skills-fsd-course/blob/main/frontend/module-07/more-on-css/qn-4/index.html)\n",
        "\"\"\"\n",
        "<!DOCTYPE html>\n",
        "<html lang=\"en\">\n",
        "  <head>\n",
        "    <meta charset=\"UTF-8\" />\n",
        "    <meta name=\"viewport\" content=\"width=device-width, initial-scale=1.0\" />\n",
        "    <title>Display circular image</title>\n",
        "    <style>\n",
        "      img {\n",
        "        width: 300px;\n",
        "        border-radius: 50%;\n",
        "      }\n",
        "    </style>\n",
        "  </head>\n",
        "  <body>\n",
        "    <img\n",
        "      src=\"https://mighty.tools/mockmind-api/content/human/125.jpg\"\n",
        "      alt=\"face of a beautifull lady\"\n",
        "    />\n",
        "  </body>\n",
        "</html>\n",
        "\"\"\""
      ],
      "metadata": {
        "id": "c2QF9aqIQ_lc"
      },
      "execution_count": null,
      "outputs": []
    },
    {
      "cell_type": "markdown",
      "source": [
        "## 5. Create a simple blog website about Google fonts. The webpage must have the heading with “Oswald” font align center to the page, below the heading have an image of Google fonts and a paragraph about Google fonts in font “Montserrat” paragraph font style should be“montserrat” font."
      ],
      "metadata": {
        "id": "ymOv2TJzR5_e"
      }
    },
    {
      "cell_type": "code",
      "source": [
        "# index.html (github file link- https://github.com/badrivlog/pw-skills-fsd-course/blob/main/frontend/module-07/more-on-css/qn-5/index.html)\n",
        "\"\"\"\n",
        "<!DOCTYPE html>\n",
        "<html lang=\"en\">\n",
        "  <head>\n",
        "    <meta charset=\"UTF-8\" />\n",
        "    <meta name=\"viewport\" content=\"width=device-width, initial-scale=1.0\" />\n",
        "    <link rel=\"stylesheet\" href=\"style.css\" />\n",
        "\n",
        "    <!-- Link to Google Fonts (Oswald and Montserrat) -->\n",
        "    <link rel=\"preconnect\" href=\"https://fonts.googleapis.com\" />\n",
        "    <link rel=\"preconnect\" href=\"https://fonts.gstatic.com\" crossorigin />\n",
        "    <link\n",
        "      href=\"https://fonts.googleapis.com/css2?family=Montserrat:ital,wght@0,100..900;1,100..900&family=Oswald:wght@200..700&display=swap\"\n",
        "      rel=\"stylesheet\"\n",
        "    />\n",
        "    <title>Google fonts</title>\n",
        "  </head>\n",
        "  <body>\n",
        "    <h1 class=\"main-heading\">Wellcome to Google fonts</h1>\n",
        "    <img\n",
        "      class=\"fonts-img\"\n",
        "      src=\"https://miro.medium.com/v2/resize:fit:4800/format:webp/1*74g0VFVy9O_v62QdapTIPQ.png\"\n",
        "      alt=\"varity of google fonts\"\n",
        "    />\n",
        "    <p class=\"desc-text\">\n",
        "      Google Fonts is a library of over 1000 free licensed font families that\n",
        "      can be used across various websites and applications. Google Fonts offers\n",
        "      a wide range of fonts for different styles, from modern to classic, and is\n",
        "      widely used by designers and developers for creating visually appealing\n",
        "      websites. It's also fast and reliable, making it a go-to resource for many\n",
        "      web projects.\n",
        "    </p>\n",
        "  </body>\n",
        "</html>\n",
        "\"\"\"\n",
        "\n",
        "# style.css (github file link- https://github.com/badrivlog/pw-skills-fsd-course/blob/main/frontend/module-07/more-on-css/qn-5/style.css)\n",
        "\"\"\"\n",
        ".main-heading {\n",
        "  font-family: \"Oswald\", sans-serif;\n",
        "  font-weight: 600;\n",
        "  text-align: center;\n",
        "}\n",
        ".fonts-img {\n",
        "  height: 600px;\n",
        "}\n",
        "\n",
        ".desc-text {\n",
        "  font-family: \"Monteserrat\", sans-serif;\n",
        "  font-weight: 400;\n",
        "}\n",
        "\"\"\""
      ],
      "metadata": {
        "id": "-lCAP3rTSKGe"
      },
      "execution_count": null,
      "outputs": []
    },
    {
      "cell_type": "markdown",
      "source": [
        "## 6. Create a simple website as mentioned in the below image."
      ],
      "metadata": {
        "id": "VpuZedZrS658"
      }
    },
    {
      "cell_type": "code",
      "source": [
        "# about.html (github file link- https://github.com/badrivlog/pw-skills-fsd-course/blob/main/frontend/module-07/more-on-css/qn-6/about.html)\n",
        "\"\"\"\n",
        "<!DOCTYPE html>\n",
        "<html lang=\"en\">\n",
        "  <head>\n",
        "    <meta charset=\"UTF-8\" />\n",
        "    <meta name=\"viewport\" content=\"width=device-width, initial-scale=1.0\" />\n",
        "    <link rel=\"stylesheet\" href=\"about.css\" />\n",
        "    <title>\n",
        "      Your Trusted Partner for Professional Workforce Development | PW Skills\n",
        "    </title>\n",
        "  </head>\n",
        "  <body>\n",
        "    <section class=\"container\">\n",
        "      <h1 class=\"primary-heading\">About Us</h1>\n",
        "      <p class=\"description-text\">\n",
        "        PW Skills' mission is to permeate through every student/professional's\n",
        "        outlook towards jobs and change their attitude and perspective from \"How\n",
        "        Can I Do It?\" to \"Of Course I Can Do It\". We aim to do this by providing\n",
        "        exceptional up skilling courses at affordable rates, while being\n",
        "        tech-forward so anyone, anywhere can access and improve their ability to\n",
        "        be successful in life.\n",
        "      </p>\n",
        "      <img\n",
        "        class=\"about-img\"\n",
        "        src=\"https://pwskills.com/images/aboutUs/aboutUs.png\"\n",
        "        alt=\"about-us\"\n",
        "      />\n",
        "    </section>\n",
        "  </body>\n",
        "</html>\n",
        "\"\"\"\n",
        "\n",
        "# about.css (github file link- https://github.com/badrivlog/pw-skills-fsd-course/blob/main/frontend/module-07/more-on-css/qn-6/about.css)\n",
        "\"\"\"\n",
        "body {\n",
        "  font-family: sans-serif;\n",
        "}\n",
        ".container {\n",
        "  padding: 0 80px;\n",
        "}\n",
        ".primary-heading {\n",
        "  text-align: center;\n",
        "  font-size: 2.2rem;\n",
        "  margin: 48px 0;\n",
        "}\n",
        ".description-text {\n",
        "  margin-bottom: 26px;\n",
        "  color: #343a40;\n",
        "  line-height: 1.5;\n",
        "}\n",
        ".about-img {\n",
        "  width: 100%;\n",
        "}\n",
        "\"\"\""
      ],
      "metadata": {
        "id": "bXl22tS5TLV-"
      },
      "execution_count": null,
      "outputs": []
    },
    {
      "cell_type": "markdown",
      "source": [
        "## 7. Create a simple webpage with a card similar to question number 2. The card must be semi-transparent as default and on hovering the card must be displayed clearly. Use CSS opacity to achieve this output."
      ],
      "metadata": {
        "id": "v_7dazAMTuu2"
      }
    },
    {
      "cell_type": "code",
      "source": [
        "# card.html (github file link- https://github.com/badrivlog/pw-skills-fsd-course/blob/main/frontend/module-07/more-on-css/qn-7/card.html)\n",
        "\"\"\"\n",
        "<!DOCTYPE html>\n",
        "<html lang=\"en\">\n",
        "  <head>\n",
        "    <meta charset=\"UTF-8\" />\n",
        "    <meta name=\"viewport\" content=\"width=device-width, initial-scale=1.0\" />\n",
        "    <link rel=\"stylesheet\" href=\"card.css\" />\n",
        "    <title>Card</title>\n",
        "  </head>\n",
        "  <body>\n",
        "    <div class=\"card\">\n",
        "      <img\n",
        "        class=\"card-img\"\n",
        "        src=\"https://s3.ap-south-1.amazonaws.com/cdn.pwskills.com/assets/uploads/course-thumbnail/7ee0dfac-0f69-4aa8-8e08-3f4883a14998.png\"\n",
        "        alt=\"PW Skills DevOps and Cloud Computing Course image\"\n",
        "      />\n",
        "      <p class=\"card-desc\">\n",
        "        <strong>Course Name:</strong> PW Skills DevOps and Cloud Computing\n",
        "      </p>\n",
        "    </div>\n",
        "  </body>\n",
        "</html>\n",
        "\"\"\"\n",
        "\n",
        "# card.css (github file link- https://github.com/badrivlog/pw-skills-fsd-course/blob/main/frontend/module-07/more-on-css/qn-7/card.css)\n",
        "\"\"\"\n",
        ".card {\n",
        "  width: 270px;\n",
        "  padding: 10px;\n",
        "  margin: 0 auto;\n",
        "  background-color: #fcc419;\n",
        "  border-radius: 20px;\n",
        "  /* opacity: 0.8; */\n",
        "}\n",
        ".card-img {\n",
        "  width: 100%;\n",
        "  border-radius: 20px;\n",
        "}\n",
        ".card:hover {\n",
        "  opacity: 1;\n",
        "}\n",
        "\"\"\""
      ],
      "metadata": {
        "id": "pwSjazm3T5h9"
      },
      "execution_count": null,
      "outputs": []
    },
    {
      "cell_type": "markdown",
      "source": [
        "## 8. Create a simple list of items as mentioned in the below image."
      ],
      "metadata": {
        "id": "AILN7UI5UVbJ"
      }
    },
    {
      "cell_type": "markdown",
      "source": [
        "To utilize different approaches, here used inline CSS to give respective style to page."
      ],
      "metadata": {
        "id": "SZ1Xjr8LUyvr"
      }
    },
    {
      "cell_type": "code",
      "source": [
        "# index.html (github file link- https://github.com/badrivlog/pw-skills-fsd-course/blob/main/frontend/module-07/more-on-css/qn-8/index.html)\n",
        "\"\"\"\n",
        "<!DOCTYPE html>\n",
        "<html lang=\"en\">\n",
        "  <head>\n",
        "    <meta charset=\"UTF-8\" />\n",
        "    <meta name=\"viewport\" content=\"width=device-width, initial-scale=1.0\" />\n",
        "    <title>Requirements list</title>\n",
        "  </head>\n",
        "  <body>\n",
        "    <h1>Requirements</h1>\n",
        "    <ul style=\"list-style: lower-roman\">\n",
        "      <li>System with minmum i3 processor of better</li>\n",
        "      <li>At least 4GB of RAM</li>\n",
        "      <li>Working internet connection</li>\n",
        "      <li>Dedication to learn</li>\n",
        "    </ul>\n",
        "  </body>\n",
        "</html>\n",
        "\"\"\""
      ],
      "metadata": {
        "id": "TfTA6B6NUhdd"
      },
      "execution_count": null,
      "outputs": []
    }
  ]
}